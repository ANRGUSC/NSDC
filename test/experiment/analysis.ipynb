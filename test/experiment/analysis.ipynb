{
 "cells": [
  {
   "cell_type": "code",
   "execution_count": 1,
   "metadata": {},
   "outputs": [],
   "source": [
    "import pandas as pd \n",
    "import wandb\n",
    "from datetime import datetime \n",
    "import pathlib \n",
    "import plotly.express as px"
   ]
  },
  {
   "cell_type": "code",
   "execution_count": 2,
   "metadata": {},
   "outputs": [],
   "source": [
    "api = wandb.Api()\n",
    "runs = api.runs(\n",
    "    \"anrg-iobt_ns/iobt_ns\",\n",
    "    filters={\"createdAt\": {\"$gte\": \"2021-10-26T08:00:00\"}}\n",
    ") \n",
    "\n",
    "IGNORE_KEYS = {\"metadata\", \"mother_network\", \"network\"}\n",
    "\n",
    "records = []\n",
    "for run in runs: \n",
    "    records.append({\n",
    "        **{\n",
    "            k: v for k, v in run.summary.items() \n",
    "            if not k.startswith(\"_\") and k not in IGNORE_KEYS\n",
    "        },\n",
    "        **{\n",
    "            k: v for k, v in run.config.items() \n",
    "            if not k.startswith(\"_\") and k not in IGNORE_KEYS\n",
    "        }\n",
    "    })\n",
    "\n",
    "df = pd.DataFrame.from_records(records)"
   ]
  },
  {
   "cell_type": "code",
   "execution_count": 3,
   "metadata": {},
   "outputs": [
    {
     "data": {
      "text/html": [
       "<div>\n",
       "<style scoped>\n",
       "    .dataframe tbody tr th:only-of-type {\n",
       "        vertical-align: middle;\n",
       "    }\n",
       "\n",
       "    .dataframe tbody tr th {\n",
       "        vertical-align: top;\n",
       "    }\n",
       "\n",
       "    .dataframe thead th {\n",
       "        text-align: right;\n",
       "    }\n",
       "</style>\n",
       "<table border=\"1\" class=\"dataframe\">\n",
       "  <thead>\n",
       "    <tr style=\"text-align: right;\">\n",
       "      <th></th>\n",
       "      <th>best_cost</th>\n",
       "      <th>sa_base</th>\n",
       "      <th>optimizer</th>\n",
       "      <th>network_order</th>\n",
       "      <th>sa_neighborhood</th>\n",
       "      <th>task_graph_order</th>\n",
       "      <th>sa_initial_temperature</th>\n",
       "    </tr>\n",
       "  </thead>\n",
       "  <tbody>\n",
       "    <tr>\n",
       "      <th>84</th>\n",
       "      <td>217.70</td>\n",
       "      <td>0.0</td>\n",
       "      <td>simulated_annealing</td>\n",
       "      <td>10</td>\n",
       "      <td>random_connected_neighbor</td>\n",
       "      <td>10</td>\n",
       "      <td>10.0</td>\n",
       "    </tr>\n",
       "    <tr>\n",
       "      <th>81</th>\n",
       "      <td>241.66</td>\n",
       "      <td>0.0</td>\n",
       "      <td>simulated_annealing</td>\n",
       "      <td>10</td>\n",
       "      <td>random_connected_neighbor</td>\n",
       "      <td>10</td>\n",
       "      <td>50.0</td>\n",
       "    </tr>\n",
       "    <tr>\n",
       "      <th>78</th>\n",
       "      <td>2303.02</td>\n",
       "      <td>0.0</td>\n",
       "      <td>simulated_annealing</td>\n",
       "      <td>10</td>\n",
       "      <td>random_connected_neighbor</td>\n",
       "      <td>10</td>\n",
       "      <td>100.0</td>\n",
       "    </tr>\n",
       "    <tr>\n",
       "      <th>65</th>\n",
       "      <td>153.64</td>\n",
       "      <td>0.0</td>\n",
       "      <td>simulated_annealing</td>\n",
       "      <td>10</td>\n",
       "      <td>random_connected_neighbor</td>\n",
       "      <td>50</td>\n",
       "      <td>10.0</td>\n",
       "    </tr>\n",
       "    <tr>\n",
       "      <th>62</th>\n",
       "      <td>2254.16</td>\n",
       "      <td>0.0</td>\n",
       "      <td>simulated_annealing</td>\n",
       "      <td>10</td>\n",
       "      <td>random_connected_neighbor</td>\n",
       "      <td>50</td>\n",
       "      <td>50.0</td>\n",
       "    </tr>\n",
       "    <tr>\n",
       "      <th>...</th>\n",
       "      <td>...</td>\n",
       "      <td>...</td>\n",
       "      <td>...</td>\n",
       "      <td>...</td>\n",
       "      <td>...</td>\n",
       "      <td>...</td>\n",
       "      <td>...</td>\n",
       "    </tr>\n",
       "    <tr>\n",
       "      <th>85</th>\n",
       "      <td>115.96</td>\n",
       "      <td>NaN</td>\n",
       "      <td>random</td>\n",
       "      <td>10</td>\n",
       "      <td>NaN</td>\n",
       "      <td>10</td>\n",
       "      <td>NaN</td>\n",
       "    </tr>\n",
       "    <tr>\n",
       "      <th>66</th>\n",
       "      <td>131.96</td>\n",
       "      <td>NaN</td>\n",
       "      <td>random</td>\n",
       "      <td>10</td>\n",
       "      <td>NaN</td>\n",
       "      <td>50</td>\n",
       "      <td>NaN</td>\n",
       "    </tr>\n",
       "    <tr>\n",
       "      <th>47</th>\n",
       "      <td>154.36</td>\n",
       "      <td>NaN</td>\n",
       "      <td>random</td>\n",
       "      <td>10</td>\n",
       "      <td>NaN</td>\n",
       "      <td>100</td>\n",
       "      <td>NaN</td>\n",
       "    </tr>\n",
       "    <tr>\n",
       "      <th>28</th>\n",
       "      <td>13071.44</td>\n",
       "      <td>NaN</td>\n",
       "      <td>random</td>\n",
       "      <td>50</td>\n",
       "      <td>NaN</td>\n",
       "      <td>10</td>\n",
       "      <td>NaN</td>\n",
       "    </tr>\n",
       "    <tr>\n",
       "      <th>9</th>\n",
       "      <td>12443.78</td>\n",
       "      <td>NaN</td>\n",
       "      <td>random</td>\n",
       "      <td>50</td>\n",
       "      <td>NaN</td>\n",
       "      <td>50</td>\n",
       "      <td>NaN</td>\n",
       "    </tr>\n",
       "  </tbody>\n",
       "</table>\n",
       "<p>86 rows × 7 columns</p>\n",
       "</div>"
      ],
      "text/plain": [
       "    best_cost  sa_base            optimizer  network_order  \\\n",
       "84     217.70      0.0  simulated_annealing             10   \n",
       "81     241.66      0.0  simulated_annealing             10   \n",
       "78    2303.02      0.0  simulated_annealing             10   \n",
       "65     153.64      0.0  simulated_annealing             10   \n",
       "62    2254.16      0.0  simulated_annealing             10   \n",
       "..        ...      ...                  ...            ...   \n",
       "85     115.96      NaN               random             10   \n",
       "66     131.96      NaN               random             10   \n",
       "47     154.36      NaN               random             10   \n",
       "28   13071.44      NaN               random             50   \n",
       "9    12443.78      NaN               random             50   \n",
       "\n",
       "              sa_neighborhood  task_graph_order  sa_initial_temperature  \n",
       "84  random_connected_neighbor                10                    10.0  \n",
       "81  random_connected_neighbor                10                    50.0  \n",
       "78  random_connected_neighbor                10                   100.0  \n",
       "65  random_connected_neighbor                50                    10.0  \n",
       "62  random_connected_neighbor                50                    50.0  \n",
       "..                        ...               ...                     ...  \n",
       "85                        NaN                10                     NaN  \n",
       "66                        NaN                50                     NaN  \n",
       "47                        NaN               100                     NaN  \n",
       "28                        NaN                10                     NaN  \n",
       "9                         NaN                50                     NaN  \n",
       "\n",
       "[86 rows x 7 columns]"
      ]
     },
     "execution_count": 3,
     "metadata": {},
     "output_type": "execute_result"
    }
   ],
   "source": [
    "results = [\"best_cost\"]\n",
    "variables = [\n",
    "    col for col in df.columns \n",
    "    if col not in {\"cost\", \"best_cost\", \"iteration\"} and len(df[col].unique()) > 1\n",
    "]\n",
    "\n",
    "df = df.drop(columns=set(df.columns) - set(results).union(variables))\n",
    "\n",
    "df_mean: pd.DataFrame = df.groupby(variables).mean().reset_index()\n",
    "df_median: pd.DataFrame = df.groupby(variables).median().reset_index()\n",
    "df_std: pd.DataFrame = df.groupby(variables).std().reset_index()\n",
    "\n",
    "df = df.sort_values(by=variables)\n",
    "df\n"
   ]
  },
  {
   "cell_type": "code",
   "execution_count": 8,
   "metadata": {},
   "outputs": [
    {
     "data": {
      "application/vnd.plotly.v1+json": {
       "config": {
        "plotlyServerURL": "https://plot.ly"
       },
       "data": [
        {
         "hovertemplate": "Neighborhood Function=random_connected_neighbor<br># Tasks=10<br>Base=0.00<br>T=0 Temp=10.0<br># Nodes=%{x}<br>Cost=%{y}<extra></extra>",
         "legendgroup": "random_connected_neighbor",
         "line": {
          "color": "#1F77B4",
          "dash": "solid"
         },
         "marker": {
          "symbol": "circle"
         },
         "mode": "lines",
         "name": "random_connected_neighbor",
         "orientation": "v",
         "showlegend": true,
         "type": "scatter",
         "x": [
          10,
          50
         ],
         "xaxis": "x7",
         "y": [
          217.7,
          401823.48
         ],
         "yaxis": "y7"
        },
        {
         "hovertemplate": "Neighborhood Function=random_connected_neighbor<br># Tasks=10<br>Base=0.00<br>T=0 Temp=50.0<br># Nodes=%{x}<br>Cost=%{y}<extra></extra>",
         "legendgroup": "random_connected_neighbor",
         "line": {
          "color": "#1F77B4",
          "dash": "solid"
         },
         "marker": {
          "symbol": "circle"
         },
         "mode": "lines",
         "name": "random_connected_neighbor",
         "orientation": "v",
         "showlegend": false,
         "type": "scatter",
         "x": [
          10,
          50
         ],
         "xaxis": "x8",
         "y": [
          241.66,
          289217.34
         ],
         "yaxis": "y8"
        },
        {
         "hovertemplate": "Neighborhood Function=random_connected_neighbor<br># Tasks=10<br>Base=0.00<br>T=0 Temp=100.0<br># Nodes=%{x}<br>Cost=%{y}<extra></extra>",
         "legendgroup": "random_connected_neighbor",
         "line": {
          "color": "#1F77B4",
          "dash": "solid"
         },
         "marker": {
          "symbol": "circle"
         },
         "mode": "lines",
         "name": "random_connected_neighbor",
         "orientation": "v",
         "showlegend": false,
         "type": "scatter",
         "x": [
          10,
          50
         ],
         "xaxis": "x9",
         "y": [
          2303.02,
          458473.72
         ],
         "yaxis": "y9"
        },
        {
         "hovertemplate": "Neighborhood Function=random_connected_neighbor<br># Tasks=10<br>Base=1.00<br>T=0 Temp=10.0<br># Nodes=%{x}<br>Cost=%{y}<extra></extra>",
         "legendgroup": "random_connected_neighbor",
         "line": {
          "color": "#1F77B4",
          "dash": "solid"
         },
         "marker": {
          "symbol": "circle"
         },
         "mode": "lines",
         "name": "random_connected_neighbor",
         "orientation": "v",
         "showlegend": false,
         "type": "scatter",
         "x": [
          10,
          50
         ],
         "xaxis": "x4",
         "y": [
          4922.5,
          73632.34
         ],
         "yaxis": "y4"
        },
        {
         "hovertemplate": "Neighborhood Function=random_connected_neighbor<br># Tasks=10<br>Base=1.00<br>T=0 Temp=50.0<br># Nodes=%{x}<br>Cost=%{y}<extra></extra>",
         "legendgroup": "random_connected_neighbor",
         "line": {
          "color": "#1F77B4",
          "dash": "solid"
         },
         "marker": {
          "symbol": "circle"
         },
         "mode": "lines",
         "name": "random_connected_neighbor",
         "orientation": "v",
         "showlegend": false,
         "type": "scatter",
         "x": [
          10,
          50
         ],
         "xaxis": "x5",
         "y": [
          6829.68,
          158883.36
         ],
         "yaxis": "y5"
        },
        {
         "hovertemplate": "Neighborhood Function=random_connected_neighbor<br># Tasks=10<br>Base=1.00<br>T=0 Temp=100.0<br># Nodes=%{x}<br>Cost=%{y}<extra></extra>",
         "legendgroup": "random_connected_neighbor",
         "line": {
          "color": "#1F77B4",
          "dash": "solid"
         },
         "marker": {
          "symbol": "circle"
         },
         "mode": "lines",
         "name": "random_connected_neighbor",
         "orientation": "v",
         "showlegend": false,
         "type": "scatter",
         "x": [
          10,
          50
         ],
         "xaxis": "x6",
         "y": [
          6844.9,
          201339.72
         ],
         "yaxis": "y6"
        },
        {
         "hovertemplate": "Neighborhood Function=random_connected_neighbor<br># Tasks=10<br>Base=e<br>T=0 Temp=10.0<br># Nodes=%{x}<br>Cost=%{y}<extra></extra>",
         "legendgroup": "random_connected_neighbor",
         "line": {
          "color": "#1F77B4",
          "dash": "solid"
         },
         "marker": {
          "symbol": "circle"
         },
         "mode": "lines",
         "name": "random_connected_neighbor",
         "orientation": "v",
         "showlegend": false,
         "type": "scatter",
         "x": [
          10,
          50
         ],
         "xaxis": "x",
         "y": [
          592.96,
          239135.68
         ],
         "yaxis": "y"
        },
        {
         "hovertemplate": "Neighborhood Function=random_connected_neighbor<br># Tasks=10<br>Base=e<br>T=0 Temp=50.0<br># Nodes=%{x}<br>Cost=%{y}<extra></extra>",
         "legendgroup": "random_connected_neighbor",
         "line": {
          "color": "#1F77B4",
          "dash": "solid"
         },
         "marker": {
          "symbol": "circle"
         },
         "mode": "lines",
         "name": "random_connected_neighbor",
         "orientation": "v",
         "showlegend": false,
         "type": "scatter",
         "x": [
          10,
          50
         ],
         "xaxis": "x2",
         "y": [
          350.88,
          432774.72
         ],
         "yaxis": "y2"
        },
        {
         "hovertemplate": "Neighborhood Function=random_connected_neighbor<br># Tasks=10<br>Base=e<br>T=0 Temp=100.0<br># Nodes=%{x}<br>Cost=%{y}<extra></extra>",
         "legendgroup": "random_connected_neighbor",
         "line": {
          "color": "#1F77B4",
          "dash": "solid"
         },
         "marker": {
          "symbol": "circle"
         },
         "mode": "lines",
         "name": "random_connected_neighbor",
         "orientation": "v",
         "showlegend": false,
         "type": "scatter",
         "x": [
          10,
          50
         ],
         "xaxis": "x3",
         "y": [
          7086.16,
          398215.64
         ],
         "yaxis": "y3"
        },
        {
         "hovertemplate": "Neighborhood Function=random_neighbor<br># Tasks=10<br>Base=0.00<br>T=0 Temp=10.0<br># Nodes=%{x}<br>Cost=%{y}<extra></extra>",
         "legendgroup": "random_neighbor",
         "line": {
          "color": "#FF7F0E",
          "dash": "solid"
         },
         "marker": {
          "symbol": "circle"
         },
         "mode": "lines",
         "name": "random_neighbor",
         "orientation": "v",
         "showlegend": true,
         "type": "scatter",
         "x": [
          10,
          50
         ],
         "xaxis": "x7",
         "y": [
          64.4,
          763818.28
         ],
         "yaxis": "y7"
        },
        {
         "hovertemplate": "Neighborhood Function=random_neighbor<br># Tasks=10<br>Base=0.00<br>T=0 Temp=50.0<br># Nodes=%{x}<br>Cost=%{y}<extra></extra>",
         "legendgroup": "random_neighbor",
         "line": {
          "color": "#FF7F0E",
          "dash": "solid"
         },
         "marker": {
          "symbol": "circle"
         },
         "mode": "lines",
         "name": "random_neighbor",
         "orientation": "v",
         "showlegend": false,
         "type": "scatter",
         "x": [
          10,
          50
         ],
         "xaxis": "x8",
         "y": [
          8951.1,
          685690.34
         ],
         "yaxis": "y8"
        },
        {
         "hovertemplate": "Neighborhood Function=random_neighbor<br># Tasks=10<br>Base=0.00<br>T=0 Temp=100.0<br># Nodes=%{x}<br>Cost=%{y}<extra></extra>",
         "legendgroup": "random_neighbor",
         "line": {
          "color": "#FF7F0E",
          "dash": "solid"
         },
         "marker": {
          "symbol": "circle"
         },
         "mode": "lines",
         "name": "random_neighbor",
         "orientation": "v",
         "showlegend": false,
         "type": "scatter",
         "x": [
          10,
          50
         ],
         "xaxis": "x9",
         "y": [
          6625.58,
          821507.52
         ],
         "yaxis": "y9"
        },
        {
         "hovertemplate": "Neighborhood Function=random_neighbor<br># Tasks=10<br>Base=1.00<br>T=0 Temp=10.0<br># Nodes=%{x}<br>Cost=%{y}<extra></extra>",
         "legendgroup": "random_neighbor",
         "line": {
          "color": "#FF7F0E",
          "dash": "solid"
         },
         "marker": {
          "symbol": "circle"
         },
         "mode": "lines",
         "name": "random_neighbor",
         "orientation": "v",
         "showlegend": false,
         "type": "scatter",
         "x": [
          10,
          50
         ],
         "xaxis": "x4",
         "y": [
          8940.48,
          307761.74
         ],
         "yaxis": "y4"
        },
        {
         "hovertemplate": "Neighborhood Function=random_neighbor<br># Tasks=10<br>Base=1.00<br>T=0 Temp=50.0<br># Nodes=%{x}<br>Cost=%{y}<extra></extra>",
         "legendgroup": "random_neighbor",
         "line": {
          "color": "#FF7F0E",
          "dash": "solid"
         },
         "marker": {
          "symbol": "circle"
         },
         "mode": "lines",
         "name": "random_neighbor",
         "orientation": "v",
         "showlegend": false,
         "type": "scatter",
         "x": [
          10,
          50
         ],
         "xaxis": "x5",
         "y": [
          6567.04,
          672999.1
         ],
         "yaxis": "y5"
        },
        {
         "hovertemplate": "Neighborhood Function=random_neighbor<br># Tasks=10<br>Base=1.00<br>T=0 Temp=100.0<br># Nodes=%{x}<br>Cost=%{y}<extra></extra>",
         "legendgroup": "random_neighbor",
         "line": {
          "color": "#FF7F0E",
          "dash": "solid"
         },
         "marker": {
          "symbol": "circle"
         },
         "mode": "lines",
         "name": "random_neighbor",
         "orientation": "v",
         "showlegend": false,
         "type": "scatter",
         "x": [
          10,
          50
         ],
         "xaxis": "x6",
         "y": [
          420.68,
          506081.8
         ],
         "yaxis": "y6"
        },
        {
         "hovertemplate": "Neighborhood Function=random_neighbor<br># Tasks=10<br>Base=e<br>T=0 Temp=10.0<br># Nodes=%{x}<br>Cost=%{y}<extra></extra>",
         "legendgroup": "random_neighbor",
         "line": {
          "color": "#FF7F0E",
          "dash": "solid"
         },
         "marker": {
          "symbol": "circle"
         },
         "mode": "lines",
         "name": "random_neighbor",
         "orientation": "v",
         "showlegend": false,
         "type": "scatter",
         "x": [
          10,
          50
         ],
         "xaxis": "x",
         "y": [
          240.22,
          81755.4
         ],
         "yaxis": "y"
        },
        {
         "hovertemplate": "Neighborhood Function=random_neighbor<br># Tasks=10<br>Base=e<br>T=0 Temp=50.0<br># Nodes=%{x}<br>Cost=%{y}<extra></extra>",
         "legendgroup": "random_neighbor",
         "line": {
          "color": "#FF7F0E",
          "dash": "solid"
         },
         "marker": {
          "symbol": "circle"
         },
         "mode": "lines",
         "name": "random_neighbor",
         "orientation": "v",
         "showlegend": false,
         "type": "scatter",
         "x": [
          10,
          50
         ],
         "xaxis": "x2",
         "y": [
          385.08,
          786601.92
         ],
         "yaxis": "y2"
        },
        {
         "hovertemplate": "Neighborhood Function=random_neighbor<br># Tasks=10<br>Base=e<br>T=0 Temp=100.0<br># Nodes=%{x}<br>Cost=%{y}<extra></extra>",
         "legendgroup": "random_neighbor",
         "line": {
          "color": "#FF7F0E",
          "dash": "solid"
         },
         "marker": {
          "symbol": "circle"
         },
         "mode": "lines",
         "name": "random_neighbor",
         "orientation": "v",
         "showlegend": false,
         "type": "scatter",
         "x": [
          10,
          50
         ],
         "xaxis": "x3",
         "y": [
          422.44,
          614981.9
         ],
         "yaxis": "y3"
        }
       ],
       "frames": [
        {
         "data": [
          {
           "hovertemplate": "Neighborhood Function=random_connected_neighbor<br># Tasks=10<br>Base=0.00<br>T=0 Temp=10.0<br># Nodes=%{x}<br>Cost=%{y}<extra></extra>",
           "legendgroup": "random_connected_neighbor",
           "line": {
            "color": "#1F77B4",
            "dash": "solid"
           },
           "marker": {
            "symbol": "circle"
           },
           "mode": "lines",
           "name": "random_connected_neighbor",
           "orientation": "v",
           "showlegend": true,
           "type": "scatter",
           "x": [
            10,
            50
           ],
           "xaxis": "x7",
           "y": [
            217.7,
            401823.48
           ],
           "yaxis": "y7"
          },
          {
           "hovertemplate": "Neighborhood Function=random_connected_neighbor<br># Tasks=10<br>Base=0.00<br>T=0 Temp=50.0<br># Nodes=%{x}<br>Cost=%{y}<extra></extra>",
           "legendgroup": "random_connected_neighbor",
           "line": {
            "color": "#1F77B4",
            "dash": "solid"
           },
           "marker": {
            "symbol": "circle"
           },
           "mode": "lines",
           "name": "random_connected_neighbor",
           "orientation": "v",
           "showlegend": false,
           "type": "scatter",
           "x": [
            10,
            50
           ],
           "xaxis": "x8",
           "y": [
            241.66,
            289217.34
           ],
           "yaxis": "y8"
          },
          {
           "hovertemplate": "Neighborhood Function=random_connected_neighbor<br># Tasks=10<br>Base=0.00<br>T=0 Temp=100.0<br># Nodes=%{x}<br>Cost=%{y}<extra></extra>",
           "legendgroup": "random_connected_neighbor",
           "line": {
            "color": "#1F77B4",
            "dash": "solid"
           },
           "marker": {
            "symbol": "circle"
           },
           "mode": "lines",
           "name": "random_connected_neighbor",
           "orientation": "v",
           "showlegend": false,
           "type": "scatter",
           "x": [
            10,
            50
           ],
           "xaxis": "x9",
           "y": [
            2303.02,
            458473.72
           ],
           "yaxis": "y9"
          },
          {
           "hovertemplate": "Neighborhood Function=random_connected_neighbor<br># Tasks=10<br>Base=1.00<br>T=0 Temp=10.0<br># Nodes=%{x}<br>Cost=%{y}<extra></extra>",
           "legendgroup": "random_connected_neighbor",
           "line": {
            "color": "#1F77B4",
            "dash": "solid"
           },
           "marker": {
            "symbol": "circle"
           },
           "mode": "lines",
           "name": "random_connected_neighbor",
           "orientation": "v",
           "showlegend": false,
           "type": "scatter",
           "x": [
            10,
            50
           ],
           "xaxis": "x4",
           "y": [
            4922.5,
            73632.34
           ],
           "yaxis": "y4"
          },
          {
           "hovertemplate": "Neighborhood Function=random_connected_neighbor<br># Tasks=10<br>Base=1.00<br>T=0 Temp=50.0<br># Nodes=%{x}<br>Cost=%{y}<extra></extra>",
           "legendgroup": "random_connected_neighbor",
           "line": {
            "color": "#1F77B4",
            "dash": "solid"
           },
           "marker": {
            "symbol": "circle"
           },
           "mode": "lines",
           "name": "random_connected_neighbor",
           "orientation": "v",
           "showlegend": false,
           "type": "scatter",
           "x": [
            10,
            50
           ],
           "xaxis": "x5",
           "y": [
            6829.68,
            158883.36
           ],
           "yaxis": "y5"
          },
          {
           "hovertemplate": "Neighborhood Function=random_connected_neighbor<br># Tasks=10<br>Base=1.00<br>T=0 Temp=100.0<br># Nodes=%{x}<br>Cost=%{y}<extra></extra>",
           "legendgroup": "random_connected_neighbor",
           "line": {
            "color": "#1F77B4",
            "dash": "solid"
           },
           "marker": {
            "symbol": "circle"
           },
           "mode": "lines",
           "name": "random_connected_neighbor",
           "orientation": "v",
           "showlegend": false,
           "type": "scatter",
           "x": [
            10,
            50
           ],
           "xaxis": "x6",
           "y": [
            6844.9,
            201339.72
           ],
           "yaxis": "y6"
          },
          {
           "hovertemplate": "Neighborhood Function=random_connected_neighbor<br># Tasks=10<br>Base=e<br>T=0 Temp=10.0<br># Nodes=%{x}<br>Cost=%{y}<extra></extra>",
           "legendgroup": "random_connected_neighbor",
           "line": {
            "color": "#1F77B4",
            "dash": "solid"
           },
           "marker": {
            "symbol": "circle"
           },
           "mode": "lines",
           "name": "random_connected_neighbor",
           "orientation": "v",
           "showlegend": false,
           "type": "scatter",
           "x": [
            10,
            50
           ],
           "xaxis": "x",
           "y": [
            592.96,
            239135.68
           ],
           "yaxis": "y"
          },
          {
           "hovertemplate": "Neighborhood Function=random_connected_neighbor<br># Tasks=10<br>Base=e<br>T=0 Temp=50.0<br># Nodes=%{x}<br>Cost=%{y}<extra></extra>",
           "legendgroup": "random_connected_neighbor",
           "line": {
            "color": "#1F77B4",
            "dash": "solid"
           },
           "marker": {
            "symbol": "circle"
           },
           "mode": "lines",
           "name": "random_connected_neighbor",
           "orientation": "v",
           "showlegend": false,
           "type": "scatter",
           "x": [
            10,
            50
           ],
           "xaxis": "x2",
           "y": [
            350.88,
            432774.72
           ],
           "yaxis": "y2"
          },
          {
           "hovertemplate": "Neighborhood Function=random_connected_neighbor<br># Tasks=10<br>Base=e<br>T=0 Temp=100.0<br># Nodes=%{x}<br>Cost=%{y}<extra></extra>",
           "legendgroup": "random_connected_neighbor",
           "line": {
            "color": "#1F77B4",
            "dash": "solid"
           },
           "marker": {
            "symbol": "circle"
           },
           "mode": "lines",
           "name": "random_connected_neighbor",
           "orientation": "v",
           "showlegend": false,
           "type": "scatter",
           "x": [
            10,
            50
           ],
           "xaxis": "x3",
           "y": [
            7086.16,
            398215.64
           ],
           "yaxis": "y3"
          },
          {
           "hovertemplate": "Neighborhood Function=random_neighbor<br># Tasks=10<br>Base=0.00<br>T=0 Temp=10.0<br># Nodes=%{x}<br>Cost=%{y}<extra></extra>",
           "legendgroup": "random_neighbor",
           "line": {
            "color": "#FF7F0E",
            "dash": "solid"
           },
           "marker": {
            "symbol": "circle"
           },
           "mode": "lines",
           "name": "random_neighbor",
           "orientation": "v",
           "showlegend": true,
           "type": "scatter",
           "x": [
            10,
            50
           ],
           "xaxis": "x7",
           "y": [
            64.4,
            763818.28
           ],
           "yaxis": "y7"
          },
          {
           "hovertemplate": "Neighborhood Function=random_neighbor<br># Tasks=10<br>Base=0.00<br>T=0 Temp=50.0<br># Nodes=%{x}<br>Cost=%{y}<extra></extra>",
           "legendgroup": "random_neighbor",
           "line": {
            "color": "#FF7F0E",
            "dash": "solid"
           },
           "marker": {
            "symbol": "circle"
           },
           "mode": "lines",
           "name": "random_neighbor",
           "orientation": "v",
           "showlegend": false,
           "type": "scatter",
           "x": [
            10,
            50
           ],
           "xaxis": "x8",
           "y": [
            8951.1,
            685690.34
           ],
           "yaxis": "y8"
          },
          {
           "hovertemplate": "Neighborhood Function=random_neighbor<br># Tasks=10<br>Base=0.00<br>T=0 Temp=100.0<br># Nodes=%{x}<br>Cost=%{y}<extra></extra>",
           "legendgroup": "random_neighbor",
           "line": {
            "color": "#FF7F0E",
            "dash": "solid"
           },
           "marker": {
            "symbol": "circle"
           },
           "mode": "lines",
           "name": "random_neighbor",
           "orientation": "v",
           "showlegend": false,
           "type": "scatter",
           "x": [
            10,
            50
           ],
           "xaxis": "x9",
           "y": [
            6625.58,
            821507.52
           ],
           "yaxis": "y9"
          },
          {
           "hovertemplate": "Neighborhood Function=random_neighbor<br># Tasks=10<br>Base=1.00<br>T=0 Temp=10.0<br># Nodes=%{x}<br>Cost=%{y}<extra></extra>",
           "legendgroup": "random_neighbor",
           "line": {
            "color": "#FF7F0E",
            "dash": "solid"
           },
           "marker": {
            "symbol": "circle"
           },
           "mode": "lines",
           "name": "random_neighbor",
           "orientation": "v",
           "showlegend": false,
           "type": "scatter",
           "x": [
            10,
            50
           ],
           "xaxis": "x4",
           "y": [
            8940.48,
            307761.74
           ],
           "yaxis": "y4"
          },
          {
           "hovertemplate": "Neighborhood Function=random_neighbor<br># Tasks=10<br>Base=1.00<br>T=0 Temp=50.0<br># Nodes=%{x}<br>Cost=%{y}<extra></extra>",
           "legendgroup": "random_neighbor",
           "line": {
            "color": "#FF7F0E",
            "dash": "solid"
           },
           "marker": {
            "symbol": "circle"
           },
           "mode": "lines",
           "name": "random_neighbor",
           "orientation": "v",
           "showlegend": false,
           "type": "scatter",
           "x": [
            10,
            50
           ],
           "xaxis": "x5",
           "y": [
            6567.04,
            672999.1
           ],
           "yaxis": "y5"
          },
          {
           "hovertemplate": "Neighborhood Function=random_neighbor<br># Tasks=10<br>Base=1.00<br>T=0 Temp=100.0<br># Nodes=%{x}<br>Cost=%{y}<extra></extra>",
           "legendgroup": "random_neighbor",
           "line": {
            "color": "#FF7F0E",
            "dash": "solid"
           },
           "marker": {
            "symbol": "circle"
           },
           "mode": "lines",
           "name": "random_neighbor",
           "orientation": "v",
           "showlegend": false,
           "type": "scatter",
           "x": [
            10,
            50
           ],
           "xaxis": "x6",
           "y": [
            420.68,
            506081.8
           ],
           "yaxis": "y6"
          },
          {
           "hovertemplate": "Neighborhood Function=random_neighbor<br># Tasks=10<br>Base=e<br>T=0 Temp=10.0<br># Nodes=%{x}<br>Cost=%{y}<extra></extra>",
           "legendgroup": "random_neighbor",
           "line": {
            "color": "#FF7F0E",
            "dash": "solid"
           },
           "marker": {
            "symbol": "circle"
           },
           "mode": "lines",
           "name": "random_neighbor",
           "orientation": "v",
           "showlegend": false,
           "type": "scatter",
           "x": [
            10,
            50
           ],
           "xaxis": "x",
           "y": [
            240.22,
            81755.4
           ],
           "yaxis": "y"
          },
          {
           "hovertemplate": "Neighborhood Function=random_neighbor<br># Tasks=10<br>Base=e<br>T=0 Temp=50.0<br># Nodes=%{x}<br>Cost=%{y}<extra></extra>",
           "legendgroup": "random_neighbor",
           "line": {
            "color": "#FF7F0E",
            "dash": "solid"
           },
           "marker": {
            "symbol": "circle"
           },
           "mode": "lines",
           "name": "random_neighbor",
           "orientation": "v",
           "showlegend": false,
           "type": "scatter",
           "x": [
            10,
            50
           ],
           "xaxis": "x2",
           "y": [
            385.08,
            786601.92
           ],
           "yaxis": "y2"
          },
          {
           "hovertemplate": "Neighborhood Function=random_neighbor<br># Tasks=10<br>Base=e<br>T=0 Temp=100.0<br># Nodes=%{x}<br>Cost=%{y}<extra></extra>",
           "legendgroup": "random_neighbor",
           "line": {
            "color": "#FF7F0E",
            "dash": "solid"
           },
           "marker": {
            "symbol": "circle"
           },
           "mode": "lines",
           "name": "random_neighbor",
           "orientation": "v",
           "showlegend": false,
           "type": "scatter",
           "x": [
            10,
            50
           ],
           "xaxis": "x3",
           "y": [
            422.44,
            614981.9
           ],
           "yaxis": "y3"
          }
         ],
         "name": "10"
        },
        {
         "data": [
          {
           "hovertemplate": "Neighborhood Function=random_connected_neighbor<br># Tasks=50<br>Base=0.00<br>T=0 Temp=10.0<br># Nodes=%{x}<br>Cost=%{y}<extra></extra>",
           "legendgroup": "random_connected_neighbor",
           "line": {
            "color": "#1F77B4",
            "dash": "solid"
           },
           "marker": {
            "symbol": "circle"
           },
           "mode": "lines",
           "name": "random_connected_neighbor",
           "orientation": "v",
           "showlegend": true,
           "type": "scatter",
           "x": [
            10,
            50
           ],
           "xaxis": "x7",
           "y": [
            153.64,
            404042.3
           ],
           "yaxis": "y7"
          },
          {
           "hovertemplate": "Neighborhood Function=random_connected_neighbor<br># Tasks=50<br>Base=0.00<br>T=0 Temp=50.0<br># Nodes=%{x}<br>Cost=%{y}<extra></extra>",
           "legendgroup": "random_connected_neighbor",
           "line": {
            "color": "#1F77B4",
            "dash": "solid"
           },
           "marker": {
            "symbol": "circle"
           },
           "mode": "lines",
           "name": "random_connected_neighbor",
           "orientation": "v",
           "showlegend": false,
           "type": "scatter",
           "x": [
            10,
            50
           ],
           "xaxis": "x8",
           "y": [
            2254.16,
            255003.16
           ],
           "yaxis": "y8"
          },
          {
           "hovertemplate": "Neighborhood Function=random_connected_neighbor<br># Tasks=50<br>Base=0.00<br>T=0 Temp=100.0<br># Nodes=%{x}<br>Cost=%{y}<extra></extra>",
           "legendgroup": "random_connected_neighbor",
           "line": {
            "color": "#1F77B4",
            "dash": "solid"
           },
           "marker": {
            "symbol": "circle"
           },
           "mode": "lines",
           "name": "random_connected_neighbor",
           "orientation": "v",
           "showlegend": false,
           "type": "scatter",
           "x": [
            10,
            50
           ],
           "xaxis": "x9",
           "y": [
            4466.58,
            502363.1
           ],
           "yaxis": "y9"
          },
          {
           "hovertemplate": "Neighborhood Function=random_connected_neighbor<br># Tasks=50<br>Base=1.00<br>T=0 Temp=10.0<br># Nodes=%{x}<br>Cost=%{y}<extra></extra>",
           "legendgroup": "random_connected_neighbor",
           "line": {
            "color": "#1F77B4",
            "dash": "solid"
           },
           "marker": {
            "symbol": "circle"
           },
           "mode": "lines",
           "name": "random_connected_neighbor",
           "orientation": "v",
           "showlegend": false,
           "type": "scatter",
           "x": [
            10,
            50
           ],
           "xaxis": "x4",
           "y": [
            358.7,
            41581.72
           ],
           "yaxis": "y4"
          },
          {
           "hovertemplate": "Neighborhood Function=random_connected_neighbor<br># Tasks=50<br>Base=1.00<br>T=0 Temp=50.0<br># Nodes=%{x}<br>Cost=%{y}<extra></extra>",
           "legendgroup": "random_connected_neighbor",
           "line": {
            "color": "#1F77B4",
            "dash": "solid"
           },
           "marker": {
            "symbol": "circle"
           },
           "mode": "lines",
           "name": "random_connected_neighbor",
           "orientation": "v",
           "showlegend": false,
           "type": "scatter",
           "x": [
            10,
            50
           ],
           "xaxis": "x5",
           "y": [
            433.96,
            526742.66
           ],
           "yaxis": "y5"
          },
          {
           "hovertemplate": "Neighborhood Function=random_connected_neighbor<br># Tasks=50<br>Base=1.00<br>T=0 Temp=100.0<br># Nodes=%{x}<br>Cost=%{y}<extra></extra>",
           "legendgroup": "random_connected_neighbor",
           "line": {
            "color": "#1F77B4",
            "dash": "solid"
           },
           "marker": {
            "symbol": "circle"
           },
           "mode": "lines",
           "name": "random_connected_neighbor",
           "orientation": "v",
           "showlegend": false,
           "type": "scatter",
           "x": [
            10,
            50
           ],
           "xaxis": "x6",
           "y": [
            15464.02,
            240210.14
           ],
           "yaxis": "y6"
          },
          {
           "hovertemplate": "Neighborhood Function=random_connected_neighbor<br># Tasks=50<br>Base=e<br>T=0 Temp=10.0<br># Nodes=%{x}<br>Cost=%{y}<extra></extra>",
           "legendgroup": "random_connected_neighbor",
           "line": {
            "color": "#1F77B4",
            "dash": "solid"
           },
           "marker": {
            "symbol": "circle"
           },
           "mode": "lines",
           "name": "random_connected_neighbor",
           "orientation": "v",
           "showlegend": false,
           "type": "scatter",
           "x": [
            10,
            50
           ],
           "xaxis": "x",
           "y": [
            156.52,
            150294.54
           ],
           "yaxis": "y"
          },
          {
           "hovertemplate": "Neighborhood Function=random_connected_neighbor<br># Tasks=50<br>Base=e<br>T=0 Temp=50.0<br># Nodes=%{x}<br>Cost=%{y}<extra></extra>",
           "legendgroup": "random_connected_neighbor",
           "line": {
            "color": "#1F77B4",
            "dash": "solid"
           },
           "marker": {
            "symbol": "circle"
           },
           "mode": "lines",
           "name": "random_connected_neighbor",
           "orientation": "v",
           "showlegend": false,
           "type": "scatter",
           "x": [
            10,
            50
           ],
           "xaxis": "x2",
           "y": [
            8839.7,
            320828.72
           ],
           "yaxis": "y2"
          },
          {
           "hovertemplate": "Neighborhood Function=random_connected_neighbor<br># Tasks=50<br>Base=e<br>T=0 Temp=100.0<br># Nodes=%{x}<br>Cost=%{y}<extra></extra>",
           "legendgroup": "random_connected_neighbor",
           "line": {
            "color": "#1F77B4",
            "dash": "solid"
           },
           "marker": {
            "symbol": "circle"
           },
           "mode": "lines",
           "name": "random_connected_neighbor",
           "orientation": "v",
           "showlegend": false,
           "type": "scatter",
           "x": [
            10,
            50
           ],
           "xaxis": "x3",
           "y": [
            11107.94,
            47204.28
           ],
           "yaxis": "y3"
          },
          {
           "hovertemplate": "Neighborhood Function=random_neighbor<br># Tasks=50<br>Base=0.00<br>T=0 Temp=10.0<br># Nodes=%{x}<br>Cost=%{y}<extra></extra>",
           "legendgroup": "random_neighbor",
           "line": {
            "color": "#FF7F0E",
            "dash": "solid"
           },
           "marker": {
            "symbol": "circle"
           },
           "mode": "lines",
           "name": "random_neighbor",
           "orientation": "v",
           "showlegend": true,
           "type": "scatter",
           "x": [
            10
           ],
           "xaxis": "x7",
           "y": [
            262.5
           ],
           "yaxis": "y7"
          },
          {
           "hovertemplate": "Neighborhood Function=random_neighbor<br># Tasks=50<br>Base=0.00<br>T=0 Temp=50.0<br># Nodes=%{x}<br>Cost=%{y}<extra></extra>",
           "legendgroup": "random_neighbor",
           "line": {
            "color": "#FF7F0E",
            "dash": "solid"
           },
           "marker": {
            "symbol": "circle"
           },
           "mode": "lines",
           "name": "random_neighbor",
           "orientation": "v",
           "showlegend": false,
           "type": "scatter",
           "x": [
            10
           ],
           "xaxis": "x8",
           "y": [
            4349.88
           ],
           "yaxis": "y8"
          },
          {
           "hovertemplate": "Neighborhood Function=random_neighbor<br># Tasks=50<br>Base=0.00<br>T=0 Temp=100.0<br># Nodes=%{x}<br>Cost=%{y}<extra></extra>",
           "legendgroup": "random_neighbor",
           "line": {
            "color": "#FF7F0E",
            "dash": "solid"
           },
           "marker": {
            "symbol": "circle"
           },
           "mode": "lines",
           "name": "random_neighbor",
           "orientation": "v",
           "showlegend": false,
           "type": "scatter",
           "x": [
            10
           ],
           "xaxis": "x9",
           "y": [
            4534.48
           ],
           "yaxis": "y9"
          },
          {
           "hovertemplate": "Neighborhood Function=random_neighbor<br># Tasks=50<br>Base=1.00<br>T=0 Temp=10.0<br># Nodes=%{x}<br>Cost=%{y}<extra></extra>",
           "legendgroup": "random_neighbor",
           "line": {
            "color": "#FF7F0E",
            "dash": "solid"
           },
           "marker": {
            "symbol": "circle"
           },
           "mode": "lines",
           "name": "random_neighbor",
           "orientation": "v",
           "showlegend": false,
           "type": "scatter",
           "x": [
            10
           ],
           "xaxis": "x4",
           "y": [
            5035.9
           ],
           "yaxis": "y4"
          },
          {
           "hovertemplate": "Neighborhood Function=random_neighbor<br># Tasks=50<br>Base=1.00<br>T=0 Temp=50.0<br># Nodes=%{x}<br>Cost=%{y}<extra></extra>",
           "legendgroup": "random_neighbor",
           "line": {
            "color": "#FF7F0E",
            "dash": "solid"
           },
           "marker": {
            "symbol": "circle"
           },
           "mode": "lines",
           "name": "random_neighbor",
           "orientation": "v",
           "showlegend": false,
           "type": "scatter",
           "x": [
            10
           ],
           "xaxis": "x5",
           "y": [
            820.04
           ],
           "yaxis": "y5"
          },
          {
           "hovertemplate": "Neighborhood Function=random_neighbor<br># Tasks=50<br>Base=1.00<br>T=0 Temp=100.0<br># Nodes=%{x}<br>Cost=%{y}<extra></extra>",
           "legendgroup": "random_neighbor",
           "line": {
            "color": "#FF7F0E",
            "dash": "solid"
           },
           "marker": {
            "symbol": "circle"
           },
           "mode": "lines",
           "name": "random_neighbor",
           "orientation": "v",
           "showlegend": false,
           "type": "scatter",
           "x": [
            10
           ],
           "xaxis": "x6",
           "y": [
            9195.3
           ],
           "yaxis": "y6"
          },
          {
           "hovertemplate": "Neighborhood Function=random_neighbor<br># Tasks=50<br>Base=e<br>T=0 Temp=10.0<br># Nodes=%{x}<br>Cost=%{y}<extra></extra>",
           "legendgroup": "random_neighbor",
           "line": {
            "color": "#FF7F0E",
            "dash": "solid"
           },
           "marker": {
            "symbol": "circle"
           },
           "mode": "lines",
           "name": "random_neighbor",
           "orientation": "v",
           "showlegend": false,
           "type": "scatter",
           "x": [
            10
           ],
           "xaxis": "x",
           "y": [
            140
           ],
           "yaxis": "y"
          },
          {
           "hovertemplate": "Neighborhood Function=random_neighbor<br># Tasks=50<br>Base=e<br>T=0 Temp=50.0<br># Nodes=%{x}<br>Cost=%{y}<extra></extra>",
           "legendgroup": "random_neighbor",
           "line": {
            "color": "#FF7F0E",
            "dash": "solid"
           },
           "marker": {
            "symbol": "circle"
           },
           "mode": "lines",
           "name": "random_neighbor",
           "orientation": "v",
           "showlegend": false,
           "type": "scatter",
           "x": [
            10
           ],
           "xaxis": "x2",
           "y": [
            607.94
           ],
           "yaxis": "y2"
          },
          {
           "hovertemplate": "Neighborhood Function=random_neighbor<br># Tasks=50<br>Base=e<br>T=0 Temp=100.0<br># Nodes=%{x}<br>Cost=%{y}<extra></extra>",
           "legendgroup": "random_neighbor",
           "line": {
            "color": "#FF7F0E",
            "dash": "solid"
           },
           "marker": {
            "symbol": "circle"
           },
           "mode": "lines",
           "name": "random_neighbor",
           "orientation": "v",
           "showlegend": false,
           "type": "scatter",
           "x": [
            10
           ],
           "xaxis": "x3",
           "y": [
            4732.755384615384
           ],
           "yaxis": "y3"
          }
         ],
         "name": "50"
        },
        {
         "data": [
          {
           "hovertemplate": "Neighborhood Function=random_connected_neighbor<br># Tasks=100<br>Base=0.00<br>T=0 Temp=10.0<br># Nodes=%{x}<br>Cost=%{y}<extra></extra>",
           "legendgroup": "random_connected_neighbor",
           "line": {
            "color": "#1F77B4",
            "dash": "solid"
           },
           "marker": {
            "symbol": "circle"
           },
           "mode": "lines",
           "name": "random_connected_neighbor",
           "orientation": "v",
           "showlegend": true,
           "type": "scatter",
           "x": [
            10
           ],
           "xaxis": "x7",
           "y": [
            19672.74
           ],
           "yaxis": "y7"
          },
          {
           "hovertemplate": "Neighborhood Function=random_connected_neighbor<br># Tasks=100<br>Base=0.00<br>T=0 Temp=50.0<br># Nodes=%{x}<br>Cost=%{y}<extra></extra>",
           "legendgroup": "random_connected_neighbor",
           "line": {
            "color": "#1F77B4",
            "dash": "solid"
           },
           "marker": {
            "symbol": "circle"
           },
           "mode": "lines",
           "name": "random_connected_neighbor",
           "orientation": "v",
           "showlegend": false,
           "type": "scatter",
           "x": [
            10
           ],
           "xaxis": "x8",
           "y": [
            274.28
           ],
           "yaxis": "y8"
          },
          {
           "hovertemplate": "Neighborhood Function=random_connected_neighbor<br># Tasks=100<br>Base=0.00<br>T=0 Temp=100.0<br># Nodes=%{x}<br>Cost=%{y}<extra></extra>",
           "legendgroup": "random_connected_neighbor",
           "line": {
            "color": "#1F77B4",
            "dash": "solid"
           },
           "marker": {
            "symbol": "circle"
           },
           "mode": "lines",
           "name": "random_connected_neighbor",
           "orientation": "v",
           "showlegend": false,
           "type": "scatter",
           "x": [
            10
           ],
           "xaxis": "x9",
           "y": [
            4449.08
           ],
           "yaxis": "y9"
          },
          {
           "hovertemplate": "Neighborhood Function=random_connected_neighbor<br># Tasks=100<br>Base=1.00<br>T=0 Temp=10.0<br># Nodes=%{x}<br>Cost=%{y}<extra></extra>",
           "legendgroup": "random_connected_neighbor",
           "line": {
            "color": "#1F77B4",
            "dash": "solid"
           },
           "marker": {
            "symbol": "circle"
           },
           "mode": "lines",
           "name": "random_connected_neighbor",
           "orientation": "v",
           "showlegend": false,
           "type": "scatter",
           "x": [
            10
           ],
           "xaxis": "x4",
           "y": [
            10928.28
           ],
           "yaxis": "y4"
          },
          {
           "hovertemplate": "Neighborhood Function=random_connected_neighbor<br># Tasks=100<br>Base=1.00<br>T=0 Temp=50.0<br># Nodes=%{x}<br>Cost=%{y}<extra></extra>",
           "legendgroup": "random_connected_neighbor",
           "line": {
            "color": "#1F77B4",
            "dash": "solid"
           },
           "marker": {
            "symbol": "circle"
           },
           "mode": "lines",
           "name": "random_connected_neighbor",
           "orientation": "v",
           "showlegend": false,
           "type": "scatter",
           "x": [
            10
           ],
           "xaxis": "x5",
           "y": [
            846.4504761904761
           ],
           "yaxis": "y5"
          },
          {
           "hovertemplate": "Neighborhood Function=random_connected_neighbor<br># Tasks=100<br>Base=1.00<br>T=0 Temp=100.0<br># Nodes=%{x}<br>Cost=%{y}<extra></extra>",
           "legendgroup": "random_connected_neighbor",
           "line": {
            "color": "#1F77B4",
            "dash": "solid"
           },
           "marker": {
            "symbol": "circle"
           },
           "mode": "lines",
           "name": "random_connected_neighbor",
           "orientation": "v",
           "showlegend": false,
           "type": "scatter",
           "x": [
            10
           ],
           "xaxis": "x6",
           "y": [
            11077.44
           ],
           "yaxis": "y6"
          },
          {
           "hovertemplate": "Neighborhood Function=random_connected_neighbor<br># Tasks=100<br>Base=e<br>T=0 Temp=10.0<br># Nodes=%{x}<br>Cost=%{y}<extra></extra>",
           "legendgroup": "random_connected_neighbor",
           "line": {
            "color": "#1F77B4",
            "dash": "solid"
           },
           "marker": {
            "symbol": "circle"
           },
           "mode": "lines",
           "name": "random_connected_neighbor",
           "orientation": "v",
           "showlegend": false,
           "type": "scatter",
           "x": [
            10
           ],
           "xaxis": "x",
           "y": [
            768.2
           ],
           "yaxis": "y"
          },
          {
           "hovertemplate": "Neighborhood Function=random_connected_neighbor<br># Tasks=100<br>Base=e<br>T=0 Temp=50.0<br># Nodes=%{x}<br>Cost=%{y}<extra></extra>",
           "legendgroup": "random_connected_neighbor",
           "line": {
            "color": "#1F77B4",
            "dash": "solid"
           },
           "marker": {
            "symbol": "circle"
           },
           "mode": "lines",
           "name": "random_connected_neighbor",
           "orientation": "v",
           "showlegend": false,
           "type": "scatter",
           "x": [
            10
           ],
           "xaxis": "x2",
           "y": [
            526.72
           ],
           "yaxis": "y2"
          },
          {
           "hovertemplate": "Neighborhood Function=random_connected_neighbor<br># Tasks=100<br>Base=e<br>T=0 Temp=100.0<br># Nodes=%{x}<br>Cost=%{y}<extra></extra>",
           "legendgroup": "random_connected_neighbor",
           "line": {
            "color": "#1F77B4",
            "dash": "solid"
           },
           "marker": {
            "symbol": "circle"
           },
           "mode": "lines",
           "name": "random_connected_neighbor",
           "orientation": "v",
           "showlegend": false,
           "type": "scatter",
           "x": [
            10
           ],
           "xaxis": "x3",
           "y": [
            32200.7
           ],
           "yaxis": "y3"
          },
          {
           "hovertemplate": "Neighborhood Function=random_neighbor<br># Tasks=100<br>Base=0.00<br>T=0 Temp=10.0<br># Nodes=%{x}<br>Cost=%{y}<extra></extra>",
           "legendgroup": "random_neighbor",
           "line": {
            "color": "#FF7F0E",
            "dash": "solid"
           },
           "marker": {
            "symbol": "circle"
           },
           "mode": "lines",
           "name": "random_neighbor",
           "orientation": "v",
           "showlegend": true,
           "type": "scatter",
           "x": [
            10
           ],
           "xaxis": "x7",
           "y": [
            2249.7
           ],
           "yaxis": "y7"
          },
          {
           "hovertemplate": "Neighborhood Function=random_neighbor<br># Tasks=100<br>Base=0.00<br>T=0 Temp=50.0<br># Nodes=%{x}<br>Cost=%{y}<extra></extra>",
           "legendgroup": "random_neighbor",
           "line": {
            "color": "#FF7F0E",
            "dash": "solid"
           },
           "marker": {
            "symbol": "circle"
           },
           "mode": "lines",
           "name": "random_neighbor",
           "orientation": "v",
           "showlegend": false,
           "type": "scatter",
           "x": [
            10
           ],
           "xaxis": "x8",
           "y": [
            169.46
           ],
           "yaxis": "y8"
          },
          {
           "hovertemplate": "Neighborhood Function=random_neighbor<br># Tasks=100<br>Base=0.00<br>T=0 Temp=100.0<br># Nodes=%{x}<br>Cost=%{y}<extra></extra>",
           "legendgroup": "random_neighbor",
           "line": {
            "color": "#FF7F0E",
            "dash": "solid"
           },
           "marker": {
            "symbol": "circle"
           },
           "mode": "lines",
           "name": "random_neighbor",
           "orientation": "v",
           "showlegend": false,
           "type": "scatter",
           "x": [
            10
           ],
           "xaxis": "x9",
           "y": [
            406.62
           ],
           "yaxis": "y9"
          },
          {
           "hovertemplate": "Neighborhood Function=random_neighbor<br># Tasks=100<br>Base=1.00<br>T=0 Temp=10.0<br># Nodes=%{x}<br>Cost=%{y}<extra></extra>",
           "legendgroup": "random_neighbor",
           "line": {
            "color": "#FF7F0E",
            "dash": "solid"
           },
           "marker": {
            "symbol": "circle"
           },
           "mode": "lines",
           "name": "random_neighbor",
           "orientation": "v",
           "showlegend": false,
           "type": "scatter",
           "x": [
            10
           ],
           "xaxis": "x4",
           "y": [
            8978.62
           ],
           "yaxis": "y4"
          },
          {
           "hovertemplate": "Neighborhood Function=random_neighbor<br># Tasks=100<br>Base=1.00<br>T=0 Temp=50.0<br># Nodes=%{x}<br>Cost=%{y}<extra></extra>",
           "legendgroup": "random_neighbor",
           "line": {
            "color": "#FF7F0E",
            "dash": "solid"
           },
           "marker": {
            "symbol": "circle"
           },
           "mode": "lines",
           "name": "random_neighbor",
           "orientation": "v",
           "showlegend": false,
           "type": "scatter",
           "x": [
            10
           ],
           "xaxis": "x5",
           "y": [
            10792.52
           ],
           "yaxis": "y5"
          },
          {
           "hovertemplate": "Neighborhood Function=random_neighbor<br># Tasks=100<br>Base=1.00<br>T=0 Temp=100.0<br># Nodes=%{x}<br>Cost=%{y}<extra></extra>",
           "legendgroup": "random_neighbor",
           "line": {
            "color": "#FF7F0E",
            "dash": "solid"
           },
           "marker": {
            "symbol": "circle"
           },
           "mode": "lines",
           "name": "random_neighbor",
           "orientation": "v",
           "showlegend": false,
           "type": "scatter",
           "x": [
            10
           ],
           "xaxis": "x6",
           "y": [
            11252.22
           ],
           "yaxis": "y6"
          },
          {
           "hovertemplate": "Neighborhood Function=random_neighbor<br># Tasks=100<br>Base=e<br>T=0 Temp=10.0<br># Nodes=%{x}<br>Cost=%{y}<extra></extra>",
           "legendgroup": "random_neighbor",
           "line": {
            "color": "#FF7F0E",
            "dash": "solid"
           },
           "marker": {
            "symbol": "circle"
           },
           "mode": "lines",
           "name": "random_neighbor",
           "orientation": "v",
           "showlegend": false,
           "type": "scatter",
           "x": [
            10
           ],
           "xaxis": "x",
           "y": [
            5199.8
           ],
           "yaxis": "y"
          },
          {
           "hovertemplate": "Neighborhood Function=random_neighbor<br># Tasks=100<br>Base=e<br>T=0 Temp=50.0<br># Nodes=%{x}<br>Cost=%{y}<extra></extra>",
           "legendgroup": "random_neighbor",
           "line": {
            "color": "#FF7F0E",
            "dash": "solid"
           },
           "marker": {
            "symbol": "circle"
           },
           "mode": "lines",
           "name": "random_neighbor",
           "orientation": "v",
           "showlegend": false,
           "type": "scatter",
           "x": [
            10
           ],
           "xaxis": "x2",
           "y": [
            452.2
           ],
           "yaxis": "y2"
          },
          {
           "hovertemplate": "Neighborhood Function=random_neighbor<br># Tasks=100<br>Base=e<br>T=0 Temp=100.0<br># Nodes=%{x}<br>Cost=%{y}<extra></extra>",
           "legendgroup": "random_neighbor",
           "line": {
            "color": "#FF7F0E",
            "dash": "solid"
           },
           "marker": {
            "symbol": "circle"
           },
           "mode": "lines",
           "name": "random_neighbor",
           "orientation": "v",
           "showlegend": false,
           "type": "scatter",
           "x": [
            10
           ],
           "xaxis": "x3",
           "y": [
            184
           ],
           "yaxis": "y3"
          }
         ],
         "name": "100"
        }
       ],
       "layout": {
        "annotations": [
         {
          "font": {},
          "showarrow": false,
          "text": "T=0 Temp=10.0",
          "x": 0.15666666666666665,
          "xanchor": "center",
          "xref": "paper",
          "y": 0.9999999999999998,
          "yanchor": "bottom",
          "yref": "paper"
         },
         {
          "font": {},
          "showarrow": false,
          "text": "T=0 Temp=50.0",
          "x": 0.49,
          "xanchor": "center",
          "xref": "paper",
          "y": 0.9999999999999998,
          "yanchor": "bottom",
          "yref": "paper"
         },
         {
          "font": {},
          "showarrow": false,
          "text": "T=0 Temp=100.0",
          "x": 0.8233333333333333,
          "xanchor": "center",
          "xref": "paper",
          "y": 0.9999999999999998,
          "yanchor": "bottom",
          "yref": "paper"
         },
         {
          "font": {},
          "showarrow": false,
          "text": "Base=e",
          "textangle": 90,
          "x": 0.98,
          "xanchor": "left",
          "xref": "paper",
          "y": 0.15666666666666665,
          "yanchor": "middle",
          "yref": "paper"
         },
         {
          "font": {},
          "showarrow": false,
          "text": "Base=1.00",
          "textangle": 90,
          "x": 0.98,
          "xanchor": "left",
          "xref": "paper",
          "y": 0.4999999999999999,
          "yanchor": "middle",
          "yref": "paper"
         },
         {
          "font": {},
          "showarrow": false,
          "text": "Base=0.00",
          "textangle": 90,
          "x": 0.98,
          "xanchor": "left",
          "xref": "paper",
          "y": 0.8433333333333332,
          "yanchor": "middle",
          "yref": "paper"
         }
        ],
        "legend": {
         "title": {
          "text": "Neighborhood Function"
         },
         "tracegroupgap": 0
        },
        "margin": {
         "t": 60
        },
        "sliders": [
         {
          "active": 0,
          "currentvalue": {
           "prefix": "# Tasks="
          },
          "len": 0.9,
          "pad": {
           "b": 10,
           "t": 60
          },
          "steps": [
           {
            "args": [
             [
              "10"
             ],
             {
              "frame": {
               "duration": 0,
               "redraw": false
              },
              "fromcurrent": true,
              "mode": "immediate",
              "transition": {
               "duration": 0,
               "easing": "linear"
              }
             }
            ],
            "label": "10",
            "method": "animate"
           },
           {
            "args": [
             [
              "50"
             ],
             {
              "frame": {
               "duration": 0,
               "redraw": false
              },
              "fromcurrent": true,
              "mode": "immediate",
              "transition": {
               "duration": 0,
               "easing": "linear"
              }
             }
            ],
            "label": "50",
            "method": "animate"
           },
           {
            "args": [
             [
              "100"
             ],
             {
              "frame": {
               "duration": 0,
               "redraw": false
              },
              "fromcurrent": true,
              "mode": "immediate",
              "transition": {
               "duration": 0,
               "easing": "linear"
              }
             }
            ],
            "label": "100",
            "method": "animate"
           }
          ],
          "x": 0.1,
          "xanchor": "left",
          "y": 0,
          "yanchor": "top"
         }
        ],
        "template": {
         "data": {
          "bar": [
           {
            "error_x": {
             "color": "rgb(36,36,36)"
            },
            "error_y": {
             "color": "rgb(36,36,36)"
            },
            "marker": {
             "line": {
              "color": "white",
              "width": 0.5
             },
             "pattern": {
              "fillmode": "overlay",
              "size": 10,
              "solidity": 0.2
             }
            },
            "type": "bar"
           }
          ],
          "barpolar": [
           {
            "marker": {
             "line": {
              "color": "white",
              "width": 0.5
             },
             "pattern": {
              "fillmode": "overlay",
              "size": 10,
              "solidity": 0.2
             }
            },
            "type": "barpolar"
           }
          ],
          "carpet": [
           {
            "aaxis": {
             "endlinecolor": "rgb(36,36,36)",
             "gridcolor": "white",
             "linecolor": "white",
             "minorgridcolor": "white",
             "startlinecolor": "rgb(36,36,36)"
            },
            "baxis": {
             "endlinecolor": "rgb(36,36,36)",
             "gridcolor": "white",
             "linecolor": "white",
             "minorgridcolor": "white",
             "startlinecolor": "rgb(36,36,36)"
            },
            "type": "carpet"
           }
          ],
          "choropleth": [
           {
            "colorbar": {
             "outlinewidth": 1,
             "tickcolor": "rgb(36,36,36)",
             "ticks": "outside"
            },
            "type": "choropleth"
           }
          ],
          "contour": [
           {
            "colorbar": {
             "outlinewidth": 1,
             "tickcolor": "rgb(36,36,36)",
             "ticks": "outside"
            },
            "colorscale": [
             [
              0,
              "#440154"
             ],
             [
              0.1111111111111111,
              "#482878"
             ],
             [
              0.2222222222222222,
              "#3e4989"
             ],
             [
              0.3333333333333333,
              "#31688e"
             ],
             [
              0.4444444444444444,
              "#26828e"
             ],
             [
              0.5555555555555556,
              "#1f9e89"
             ],
             [
              0.6666666666666666,
              "#35b779"
             ],
             [
              0.7777777777777778,
              "#6ece58"
             ],
             [
              0.8888888888888888,
              "#b5de2b"
             ],
             [
              1,
              "#fde725"
             ]
            ],
            "type": "contour"
           }
          ],
          "contourcarpet": [
           {
            "colorbar": {
             "outlinewidth": 1,
             "tickcolor": "rgb(36,36,36)",
             "ticks": "outside"
            },
            "type": "contourcarpet"
           }
          ],
          "heatmap": [
           {
            "colorbar": {
             "outlinewidth": 1,
             "tickcolor": "rgb(36,36,36)",
             "ticks": "outside"
            },
            "colorscale": [
             [
              0,
              "#440154"
             ],
             [
              0.1111111111111111,
              "#482878"
             ],
             [
              0.2222222222222222,
              "#3e4989"
             ],
             [
              0.3333333333333333,
              "#31688e"
             ],
             [
              0.4444444444444444,
              "#26828e"
             ],
             [
              0.5555555555555556,
              "#1f9e89"
             ],
             [
              0.6666666666666666,
              "#35b779"
             ],
             [
              0.7777777777777778,
              "#6ece58"
             ],
             [
              0.8888888888888888,
              "#b5de2b"
             ],
             [
              1,
              "#fde725"
             ]
            ],
            "type": "heatmap"
           }
          ],
          "heatmapgl": [
           {
            "colorbar": {
             "outlinewidth": 1,
             "tickcolor": "rgb(36,36,36)",
             "ticks": "outside"
            },
            "colorscale": [
             [
              0,
              "#440154"
             ],
             [
              0.1111111111111111,
              "#482878"
             ],
             [
              0.2222222222222222,
              "#3e4989"
             ],
             [
              0.3333333333333333,
              "#31688e"
             ],
             [
              0.4444444444444444,
              "#26828e"
             ],
             [
              0.5555555555555556,
              "#1f9e89"
             ],
             [
              0.6666666666666666,
              "#35b779"
             ],
             [
              0.7777777777777778,
              "#6ece58"
             ],
             [
              0.8888888888888888,
              "#b5de2b"
             ],
             [
              1,
              "#fde725"
             ]
            ],
            "type": "heatmapgl"
           }
          ],
          "histogram": [
           {
            "marker": {
             "line": {
              "color": "white",
              "width": 0.6
             }
            },
            "type": "histogram"
           }
          ],
          "histogram2d": [
           {
            "colorbar": {
             "outlinewidth": 1,
             "tickcolor": "rgb(36,36,36)",
             "ticks": "outside"
            },
            "colorscale": [
             [
              0,
              "#440154"
             ],
             [
              0.1111111111111111,
              "#482878"
             ],
             [
              0.2222222222222222,
              "#3e4989"
             ],
             [
              0.3333333333333333,
              "#31688e"
             ],
             [
              0.4444444444444444,
              "#26828e"
             ],
             [
              0.5555555555555556,
              "#1f9e89"
             ],
             [
              0.6666666666666666,
              "#35b779"
             ],
             [
              0.7777777777777778,
              "#6ece58"
             ],
             [
              0.8888888888888888,
              "#b5de2b"
             ],
             [
              1,
              "#fde725"
             ]
            ],
            "type": "histogram2d"
           }
          ],
          "histogram2dcontour": [
           {
            "colorbar": {
             "outlinewidth": 1,
             "tickcolor": "rgb(36,36,36)",
             "ticks": "outside"
            },
            "colorscale": [
             [
              0,
              "#440154"
             ],
             [
              0.1111111111111111,
              "#482878"
             ],
             [
              0.2222222222222222,
              "#3e4989"
             ],
             [
              0.3333333333333333,
              "#31688e"
             ],
             [
              0.4444444444444444,
              "#26828e"
             ],
             [
              0.5555555555555556,
              "#1f9e89"
             ],
             [
              0.6666666666666666,
              "#35b779"
             ],
             [
              0.7777777777777778,
              "#6ece58"
             ],
             [
              0.8888888888888888,
              "#b5de2b"
             ],
             [
              1,
              "#fde725"
             ]
            ],
            "type": "histogram2dcontour"
           }
          ],
          "mesh3d": [
           {
            "colorbar": {
             "outlinewidth": 1,
             "tickcolor": "rgb(36,36,36)",
             "ticks": "outside"
            },
            "type": "mesh3d"
           }
          ],
          "parcoords": [
           {
            "line": {
             "colorbar": {
              "outlinewidth": 1,
              "tickcolor": "rgb(36,36,36)",
              "ticks": "outside"
             }
            },
            "type": "parcoords"
           }
          ],
          "pie": [
           {
            "automargin": true,
            "type": "pie"
           }
          ],
          "scatter": [
           {
            "marker": {
             "colorbar": {
              "outlinewidth": 1,
              "tickcolor": "rgb(36,36,36)",
              "ticks": "outside"
             }
            },
            "type": "scatter"
           }
          ],
          "scatter3d": [
           {
            "line": {
             "colorbar": {
              "outlinewidth": 1,
              "tickcolor": "rgb(36,36,36)",
              "ticks": "outside"
             }
            },
            "marker": {
             "colorbar": {
              "outlinewidth": 1,
              "tickcolor": "rgb(36,36,36)",
              "ticks": "outside"
             }
            },
            "type": "scatter3d"
           }
          ],
          "scattercarpet": [
           {
            "marker": {
             "colorbar": {
              "outlinewidth": 1,
              "tickcolor": "rgb(36,36,36)",
              "ticks": "outside"
             }
            },
            "type": "scattercarpet"
           }
          ],
          "scattergeo": [
           {
            "marker": {
             "colorbar": {
              "outlinewidth": 1,
              "tickcolor": "rgb(36,36,36)",
              "ticks": "outside"
             }
            },
            "type": "scattergeo"
           }
          ],
          "scattergl": [
           {
            "marker": {
             "colorbar": {
              "outlinewidth": 1,
              "tickcolor": "rgb(36,36,36)",
              "ticks": "outside"
             }
            },
            "type": "scattergl"
           }
          ],
          "scattermapbox": [
           {
            "marker": {
             "colorbar": {
              "outlinewidth": 1,
              "tickcolor": "rgb(36,36,36)",
              "ticks": "outside"
             }
            },
            "type": "scattermapbox"
           }
          ],
          "scatterpolar": [
           {
            "marker": {
             "colorbar": {
              "outlinewidth": 1,
              "tickcolor": "rgb(36,36,36)",
              "ticks": "outside"
             }
            },
            "type": "scatterpolar"
           }
          ],
          "scatterpolargl": [
           {
            "marker": {
             "colorbar": {
              "outlinewidth": 1,
              "tickcolor": "rgb(36,36,36)",
              "ticks": "outside"
             }
            },
            "type": "scatterpolargl"
           }
          ],
          "scatterternary": [
           {
            "marker": {
             "colorbar": {
              "outlinewidth": 1,
              "tickcolor": "rgb(36,36,36)",
              "ticks": "outside"
             }
            },
            "type": "scatterternary"
           }
          ],
          "surface": [
           {
            "colorbar": {
             "outlinewidth": 1,
             "tickcolor": "rgb(36,36,36)",
             "ticks": "outside"
            },
            "colorscale": [
             [
              0,
              "#440154"
             ],
             [
              0.1111111111111111,
              "#482878"
             ],
             [
              0.2222222222222222,
              "#3e4989"
             ],
             [
              0.3333333333333333,
              "#31688e"
             ],
             [
              0.4444444444444444,
              "#26828e"
             ],
             [
              0.5555555555555556,
              "#1f9e89"
             ],
             [
              0.6666666666666666,
              "#35b779"
             ],
             [
              0.7777777777777778,
              "#6ece58"
             ],
             [
              0.8888888888888888,
              "#b5de2b"
             ],
             [
              1,
              "#fde725"
             ]
            ],
            "type": "surface"
           }
          ],
          "table": [
           {
            "cells": {
             "fill": {
              "color": "rgb(237,237,237)"
             },
             "line": {
              "color": "white"
             }
            },
            "header": {
             "fill": {
              "color": "rgb(217,217,217)"
             },
             "line": {
              "color": "white"
             }
            },
            "type": "table"
           }
          ]
         },
         "layout": {
          "annotationdefaults": {
           "arrowhead": 0,
           "arrowwidth": 1
          },
          "autotypenumbers": "strict",
          "coloraxis": {
           "colorbar": {
            "outlinewidth": 1,
            "tickcolor": "rgb(36,36,36)",
            "ticks": "outside"
           }
          },
          "colorscale": {
           "diverging": [
            [
             0,
             "rgb(103,0,31)"
            ],
            [
             0.1,
             "rgb(178,24,43)"
            ],
            [
             0.2,
             "rgb(214,96,77)"
            ],
            [
             0.3,
             "rgb(244,165,130)"
            ],
            [
             0.4,
             "rgb(253,219,199)"
            ],
            [
             0.5,
             "rgb(247,247,247)"
            ],
            [
             0.6,
             "rgb(209,229,240)"
            ],
            [
             0.7,
             "rgb(146,197,222)"
            ],
            [
             0.8,
             "rgb(67,147,195)"
            ],
            [
             0.9,
             "rgb(33,102,172)"
            ],
            [
             1,
             "rgb(5,48,97)"
            ]
           ],
           "sequential": [
            [
             0,
             "#440154"
            ],
            [
             0.1111111111111111,
             "#482878"
            ],
            [
             0.2222222222222222,
             "#3e4989"
            ],
            [
             0.3333333333333333,
             "#31688e"
            ],
            [
             0.4444444444444444,
             "#26828e"
            ],
            [
             0.5555555555555556,
             "#1f9e89"
            ],
            [
             0.6666666666666666,
             "#35b779"
            ],
            [
             0.7777777777777778,
             "#6ece58"
            ],
            [
             0.8888888888888888,
             "#b5de2b"
            ],
            [
             1,
             "#fde725"
            ]
           ],
           "sequentialminus": [
            [
             0,
             "#440154"
            ],
            [
             0.1111111111111111,
             "#482878"
            ],
            [
             0.2222222222222222,
             "#3e4989"
            ],
            [
             0.3333333333333333,
             "#31688e"
            ],
            [
             0.4444444444444444,
             "#26828e"
            ],
            [
             0.5555555555555556,
             "#1f9e89"
            ],
            [
             0.6666666666666666,
             "#35b779"
            ],
            [
             0.7777777777777778,
             "#6ece58"
            ],
            [
             0.8888888888888888,
             "#b5de2b"
            ],
            [
             1,
             "#fde725"
            ]
           ]
          },
          "colorway": [
           "#1F77B4",
           "#FF7F0E",
           "#2CA02C",
           "#D62728",
           "#9467BD",
           "#8C564B",
           "#E377C2",
           "#7F7F7F",
           "#BCBD22",
           "#17BECF"
          ],
          "font": {
           "color": "rgb(36,36,36)"
          },
          "geo": {
           "bgcolor": "white",
           "lakecolor": "white",
           "landcolor": "white",
           "showlakes": true,
           "showland": true,
           "subunitcolor": "white"
          },
          "hoverlabel": {
           "align": "left"
          },
          "hovermode": "closest",
          "mapbox": {
           "style": "light"
          },
          "paper_bgcolor": "white",
          "plot_bgcolor": "white",
          "polar": {
           "angularaxis": {
            "gridcolor": "rgb(232,232,232)",
            "linecolor": "rgb(36,36,36)",
            "showgrid": false,
            "showline": true,
            "ticks": "outside"
           },
           "bgcolor": "white",
           "radialaxis": {
            "gridcolor": "rgb(232,232,232)",
            "linecolor": "rgb(36,36,36)",
            "showgrid": false,
            "showline": true,
            "ticks": "outside"
           }
          },
          "scene": {
           "xaxis": {
            "backgroundcolor": "white",
            "gridcolor": "rgb(232,232,232)",
            "gridwidth": 2,
            "linecolor": "rgb(36,36,36)",
            "showbackground": true,
            "showgrid": false,
            "showline": true,
            "ticks": "outside",
            "zeroline": false,
            "zerolinecolor": "rgb(36,36,36)"
           },
           "yaxis": {
            "backgroundcolor": "white",
            "gridcolor": "rgb(232,232,232)",
            "gridwidth": 2,
            "linecolor": "rgb(36,36,36)",
            "showbackground": true,
            "showgrid": false,
            "showline": true,
            "ticks": "outside",
            "zeroline": false,
            "zerolinecolor": "rgb(36,36,36)"
           },
           "zaxis": {
            "backgroundcolor": "white",
            "gridcolor": "rgb(232,232,232)",
            "gridwidth": 2,
            "linecolor": "rgb(36,36,36)",
            "showbackground": true,
            "showgrid": false,
            "showline": true,
            "ticks": "outside",
            "zeroline": false,
            "zerolinecolor": "rgb(36,36,36)"
           }
          },
          "shapedefaults": {
           "fillcolor": "black",
           "line": {
            "width": 0
           },
           "opacity": 0.3
          },
          "ternary": {
           "aaxis": {
            "gridcolor": "rgb(232,232,232)",
            "linecolor": "rgb(36,36,36)",
            "showgrid": false,
            "showline": true,
            "ticks": "outside"
           },
           "baxis": {
            "gridcolor": "rgb(232,232,232)",
            "linecolor": "rgb(36,36,36)",
            "showgrid": false,
            "showline": true,
            "ticks": "outside"
           },
           "bgcolor": "white",
           "caxis": {
            "gridcolor": "rgb(232,232,232)",
            "linecolor": "rgb(36,36,36)",
            "showgrid": false,
            "showline": true,
            "ticks": "outside"
           }
          },
          "title": {
           "x": 0.05
          },
          "xaxis": {
           "automargin": true,
           "gridcolor": "rgb(232,232,232)",
           "linecolor": "rgb(36,36,36)",
           "showgrid": false,
           "showline": true,
           "ticks": "outside",
           "title": {
            "standoff": 15
           },
           "zeroline": false,
           "zerolinecolor": "rgb(36,36,36)"
          },
          "yaxis": {
           "automargin": true,
           "gridcolor": "rgb(232,232,232)",
           "linecolor": "rgb(36,36,36)",
           "showgrid": false,
           "showline": true,
           "ticks": "outside",
           "title": {
            "standoff": 15
           },
           "zeroline": false,
           "zerolinecolor": "rgb(36,36,36)"
          }
         }
        },
        "updatemenus": [
         {
          "buttons": [
           {
            "args": [
             null,
             {
              "frame": {
               "duration": 500,
               "redraw": false
              },
              "fromcurrent": true,
              "mode": "immediate",
              "transition": {
               "duration": 500,
               "easing": "linear"
              }
             }
            ],
            "label": "&#9654;",
            "method": "animate"
           },
           {
            "args": [
             [
              null
             ],
             {
              "frame": {
               "duration": 0,
               "redraw": false
              },
              "fromcurrent": true,
              "mode": "immediate",
              "transition": {
               "duration": 0,
               "easing": "linear"
              }
             }
            ],
            "label": "&#9724;",
            "method": "animate"
           }
          ],
          "direction": "left",
          "pad": {
           "r": 10,
           "t": 70
          },
          "showactive": false,
          "type": "buttons",
          "x": 0.1,
          "xanchor": "right",
          "y": 0,
          "yanchor": "top"
         }
        ],
        "xaxis": {
         "anchor": "y",
         "domain": [
          0,
          0.3133333333333333
         ],
         "title": {
          "text": "# Nodes"
         }
        },
        "xaxis2": {
         "anchor": "y2",
         "domain": [
          0.3333333333333333,
          0.6466666666666666
         ],
         "matches": "x",
         "title": {
          "text": "# Nodes"
         }
        },
        "xaxis3": {
         "anchor": "y3",
         "domain": [
          0.6666666666666666,
          0.98
         ],
         "matches": "x",
         "title": {
          "text": "# Nodes"
         }
        },
        "xaxis4": {
         "anchor": "y4",
         "domain": [
          0,
          0.3133333333333333
         ],
         "matches": "x",
         "showticklabels": false
        },
        "xaxis5": {
         "anchor": "y5",
         "domain": [
          0.3333333333333333,
          0.6466666666666666
         ],
         "matches": "x",
         "showticklabels": false
        },
        "xaxis6": {
         "anchor": "y6",
         "domain": [
          0.6666666666666666,
          0.98
         ],
         "matches": "x",
         "showticklabels": false
        },
        "xaxis7": {
         "anchor": "y7",
         "domain": [
          0,
          0.3133333333333333
         ],
         "matches": "x",
         "showticklabels": false
        },
        "xaxis8": {
         "anchor": "y8",
         "domain": [
          0.3333333333333333,
          0.6466666666666666
         ],
         "matches": "x",
         "showticklabels": false
        },
        "xaxis9": {
         "anchor": "y9",
         "domain": [
          0.6666666666666666,
          0.98
         ],
         "matches": "x",
         "showticklabels": false
        },
        "yaxis": {
         "anchor": "x",
         "domain": [
          0,
          0.3133333333333333
         ],
         "title": {
          "text": "Cost"
         }
        },
        "yaxis2": {
         "anchor": "x2",
         "domain": [
          0,
          0.3133333333333333
         ],
         "matches": "y",
         "showticklabels": false
        },
        "yaxis3": {
         "anchor": "x3",
         "domain": [
          0,
          0.3133333333333333
         ],
         "matches": "y",
         "showticklabels": false
        },
        "yaxis4": {
         "anchor": "x4",
         "domain": [
          0.34333333333333327,
          0.6566666666666665
         ],
         "matches": "y",
         "title": {
          "text": "Cost"
         }
        },
        "yaxis5": {
         "anchor": "x5",
         "domain": [
          0.34333333333333327,
          0.6566666666666665
         ],
         "matches": "y",
         "showticklabels": false
        },
        "yaxis6": {
         "anchor": "x6",
         "domain": [
          0.34333333333333327,
          0.6566666666666665
         ],
         "matches": "y",
         "showticklabels": false
        },
        "yaxis7": {
         "anchor": "x7",
         "domain": [
          0.6866666666666665,
          0.9999999999999998
         ],
         "matches": "y",
         "title": {
          "text": "Cost"
         }
        },
        "yaxis8": {
         "anchor": "x8",
         "domain": [
          0.6866666666666665,
          0.9999999999999998
         ],
         "matches": "y",
         "showticklabels": false
        },
        "yaxis9": {
         "anchor": "x9",
         "domain": [
          0.6866666666666665,
          0.9999999999999998
         ],
         "matches": "y",
         "showticklabels": false
        }
       }
      },
      "text/html": [
       "<div>                            <div id=\"1771ad07-36de-430b-98d8-459e9f4c68d9\" class=\"plotly-graph-div\" style=\"height:525px; width:100%;\"></div>            <script type=\"text/javascript\">                require([\"plotly\"], function(Plotly) {                    window.PLOTLYENV=window.PLOTLYENV || {};                                    if (document.getElementById(\"1771ad07-36de-430b-98d8-459e9f4c68d9\")) {                    Plotly.newPlot(                        \"1771ad07-36de-430b-98d8-459e9f4c68d9\",                        [{\"hovertemplate\":\"Neighborhood Function=random_connected_neighbor<br># Tasks=10<br>Base=0.00<br>T=0 Temp=10.0<br># Nodes=%{x}<br>Cost=%{y}<extra></extra>\",\"legendgroup\":\"random_connected_neighbor\",\"line\":{\"color\":\"#1F77B4\",\"dash\":\"solid\"},\"marker\":{\"symbol\":\"circle\"},\"mode\":\"lines\",\"name\":\"random_connected_neighbor\",\"orientation\":\"v\",\"showlegend\":true,\"type\":\"scatter\",\"x\":[10,50],\"xaxis\":\"x7\",\"y\":[217.7,401823.48],\"yaxis\":\"y7\"},{\"hovertemplate\":\"Neighborhood Function=random_connected_neighbor<br># Tasks=10<br>Base=0.00<br>T=0 Temp=50.0<br># Nodes=%{x}<br>Cost=%{y}<extra></extra>\",\"legendgroup\":\"random_connected_neighbor\",\"line\":{\"color\":\"#1F77B4\",\"dash\":\"solid\"},\"marker\":{\"symbol\":\"circle\"},\"mode\":\"lines\",\"name\":\"random_connected_neighbor\",\"orientation\":\"v\",\"showlegend\":false,\"type\":\"scatter\",\"x\":[10,50],\"xaxis\":\"x8\",\"y\":[241.66,289217.34],\"yaxis\":\"y8\"},{\"hovertemplate\":\"Neighborhood Function=random_connected_neighbor<br># Tasks=10<br>Base=0.00<br>T=0 Temp=100.0<br># Nodes=%{x}<br>Cost=%{y}<extra></extra>\",\"legendgroup\":\"random_connected_neighbor\",\"line\":{\"color\":\"#1F77B4\",\"dash\":\"solid\"},\"marker\":{\"symbol\":\"circle\"},\"mode\":\"lines\",\"name\":\"random_connected_neighbor\",\"orientation\":\"v\",\"showlegend\":false,\"type\":\"scatter\",\"x\":[10,50],\"xaxis\":\"x9\",\"y\":[2303.02,458473.72],\"yaxis\":\"y9\"},{\"hovertemplate\":\"Neighborhood Function=random_connected_neighbor<br># Tasks=10<br>Base=1.00<br>T=0 Temp=10.0<br># Nodes=%{x}<br>Cost=%{y}<extra></extra>\",\"legendgroup\":\"random_connected_neighbor\",\"line\":{\"color\":\"#1F77B4\",\"dash\":\"solid\"},\"marker\":{\"symbol\":\"circle\"},\"mode\":\"lines\",\"name\":\"random_connected_neighbor\",\"orientation\":\"v\",\"showlegend\":false,\"type\":\"scatter\",\"x\":[10,50],\"xaxis\":\"x4\",\"y\":[4922.5,73632.34],\"yaxis\":\"y4\"},{\"hovertemplate\":\"Neighborhood Function=random_connected_neighbor<br># Tasks=10<br>Base=1.00<br>T=0 Temp=50.0<br># Nodes=%{x}<br>Cost=%{y}<extra></extra>\",\"legendgroup\":\"random_connected_neighbor\",\"line\":{\"color\":\"#1F77B4\",\"dash\":\"solid\"},\"marker\":{\"symbol\":\"circle\"},\"mode\":\"lines\",\"name\":\"random_connected_neighbor\",\"orientation\":\"v\",\"showlegend\":false,\"type\":\"scatter\",\"x\":[10,50],\"xaxis\":\"x5\",\"y\":[6829.68,158883.36],\"yaxis\":\"y5\"},{\"hovertemplate\":\"Neighborhood Function=random_connected_neighbor<br># Tasks=10<br>Base=1.00<br>T=0 Temp=100.0<br># Nodes=%{x}<br>Cost=%{y}<extra></extra>\",\"legendgroup\":\"random_connected_neighbor\",\"line\":{\"color\":\"#1F77B4\",\"dash\":\"solid\"},\"marker\":{\"symbol\":\"circle\"},\"mode\":\"lines\",\"name\":\"random_connected_neighbor\",\"orientation\":\"v\",\"showlegend\":false,\"type\":\"scatter\",\"x\":[10,50],\"xaxis\":\"x6\",\"y\":[6844.9,201339.72],\"yaxis\":\"y6\"},{\"hovertemplate\":\"Neighborhood Function=random_connected_neighbor<br># Tasks=10<br>Base=e<br>T=0 Temp=10.0<br># Nodes=%{x}<br>Cost=%{y}<extra></extra>\",\"legendgroup\":\"random_connected_neighbor\",\"line\":{\"color\":\"#1F77B4\",\"dash\":\"solid\"},\"marker\":{\"symbol\":\"circle\"},\"mode\":\"lines\",\"name\":\"random_connected_neighbor\",\"orientation\":\"v\",\"showlegend\":false,\"type\":\"scatter\",\"x\":[10,50],\"xaxis\":\"x\",\"y\":[592.96,239135.68],\"yaxis\":\"y\"},{\"hovertemplate\":\"Neighborhood Function=random_connected_neighbor<br># Tasks=10<br>Base=e<br>T=0 Temp=50.0<br># Nodes=%{x}<br>Cost=%{y}<extra></extra>\",\"legendgroup\":\"random_connected_neighbor\",\"line\":{\"color\":\"#1F77B4\",\"dash\":\"solid\"},\"marker\":{\"symbol\":\"circle\"},\"mode\":\"lines\",\"name\":\"random_connected_neighbor\",\"orientation\":\"v\",\"showlegend\":false,\"type\":\"scatter\",\"x\":[10,50],\"xaxis\":\"x2\",\"y\":[350.88,432774.72],\"yaxis\":\"y2\"},{\"hovertemplate\":\"Neighborhood Function=random_connected_neighbor<br># Tasks=10<br>Base=e<br>T=0 Temp=100.0<br># Nodes=%{x}<br>Cost=%{y}<extra></extra>\",\"legendgroup\":\"random_connected_neighbor\",\"line\":{\"color\":\"#1F77B4\",\"dash\":\"solid\"},\"marker\":{\"symbol\":\"circle\"},\"mode\":\"lines\",\"name\":\"random_connected_neighbor\",\"orientation\":\"v\",\"showlegend\":false,\"type\":\"scatter\",\"x\":[10,50],\"xaxis\":\"x3\",\"y\":[7086.16,398215.64],\"yaxis\":\"y3\"},{\"hovertemplate\":\"Neighborhood Function=random_neighbor<br># Tasks=10<br>Base=0.00<br>T=0 Temp=10.0<br># Nodes=%{x}<br>Cost=%{y}<extra></extra>\",\"legendgroup\":\"random_neighbor\",\"line\":{\"color\":\"#FF7F0E\",\"dash\":\"solid\"},\"marker\":{\"symbol\":\"circle\"},\"mode\":\"lines\",\"name\":\"random_neighbor\",\"orientation\":\"v\",\"showlegend\":true,\"type\":\"scatter\",\"x\":[10,50],\"xaxis\":\"x7\",\"y\":[64.4,763818.28],\"yaxis\":\"y7\"},{\"hovertemplate\":\"Neighborhood Function=random_neighbor<br># Tasks=10<br>Base=0.00<br>T=0 Temp=50.0<br># Nodes=%{x}<br>Cost=%{y}<extra></extra>\",\"legendgroup\":\"random_neighbor\",\"line\":{\"color\":\"#FF7F0E\",\"dash\":\"solid\"},\"marker\":{\"symbol\":\"circle\"},\"mode\":\"lines\",\"name\":\"random_neighbor\",\"orientation\":\"v\",\"showlegend\":false,\"type\":\"scatter\",\"x\":[10,50],\"xaxis\":\"x8\",\"y\":[8951.1,685690.34],\"yaxis\":\"y8\"},{\"hovertemplate\":\"Neighborhood Function=random_neighbor<br># Tasks=10<br>Base=0.00<br>T=0 Temp=100.0<br># Nodes=%{x}<br>Cost=%{y}<extra></extra>\",\"legendgroup\":\"random_neighbor\",\"line\":{\"color\":\"#FF7F0E\",\"dash\":\"solid\"},\"marker\":{\"symbol\":\"circle\"},\"mode\":\"lines\",\"name\":\"random_neighbor\",\"orientation\":\"v\",\"showlegend\":false,\"type\":\"scatter\",\"x\":[10,50],\"xaxis\":\"x9\",\"y\":[6625.58,821507.52],\"yaxis\":\"y9\"},{\"hovertemplate\":\"Neighborhood Function=random_neighbor<br># Tasks=10<br>Base=1.00<br>T=0 Temp=10.0<br># Nodes=%{x}<br>Cost=%{y}<extra></extra>\",\"legendgroup\":\"random_neighbor\",\"line\":{\"color\":\"#FF7F0E\",\"dash\":\"solid\"},\"marker\":{\"symbol\":\"circle\"},\"mode\":\"lines\",\"name\":\"random_neighbor\",\"orientation\":\"v\",\"showlegend\":false,\"type\":\"scatter\",\"x\":[10,50],\"xaxis\":\"x4\",\"y\":[8940.48,307761.74],\"yaxis\":\"y4\"},{\"hovertemplate\":\"Neighborhood Function=random_neighbor<br># Tasks=10<br>Base=1.00<br>T=0 Temp=50.0<br># Nodes=%{x}<br>Cost=%{y}<extra></extra>\",\"legendgroup\":\"random_neighbor\",\"line\":{\"color\":\"#FF7F0E\",\"dash\":\"solid\"},\"marker\":{\"symbol\":\"circle\"},\"mode\":\"lines\",\"name\":\"random_neighbor\",\"orientation\":\"v\",\"showlegend\":false,\"type\":\"scatter\",\"x\":[10,50],\"xaxis\":\"x5\",\"y\":[6567.04,672999.1],\"yaxis\":\"y5\"},{\"hovertemplate\":\"Neighborhood Function=random_neighbor<br># Tasks=10<br>Base=1.00<br>T=0 Temp=100.0<br># Nodes=%{x}<br>Cost=%{y}<extra></extra>\",\"legendgroup\":\"random_neighbor\",\"line\":{\"color\":\"#FF7F0E\",\"dash\":\"solid\"},\"marker\":{\"symbol\":\"circle\"},\"mode\":\"lines\",\"name\":\"random_neighbor\",\"orientation\":\"v\",\"showlegend\":false,\"type\":\"scatter\",\"x\":[10,50],\"xaxis\":\"x6\",\"y\":[420.68,506081.8],\"yaxis\":\"y6\"},{\"hovertemplate\":\"Neighborhood Function=random_neighbor<br># Tasks=10<br>Base=e<br>T=0 Temp=10.0<br># Nodes=%{x}<br>Cost=%{y}<extra></extra>\",\"legendgroup\":\"random_neighbor\",\"line\":{\"color\":\"#FF7F0E\",\"dash\":\"solid\"},\"marker\":{\"symbol\":\"circle\"},\"mode\":\"lines\",\"name\":\"random_neighbor\",\"orientation\":\"v\",\"showlegend\":false,\"type\":\"scatter\",\"x\":[10,50],\"xaxis\":\"x\",\"y\":[240.22,81755.4],\"yaxis\":\"y\"},{\"hovertemplate\":\"Neighborhood Function=random_neighbor<br># Tasks=10<br>Base=e<br>T=0 Temp=50.0<br># Nodes=%{x}<br>Cost=%{y}<extra></extra>\",\"legendgroup\":\"random_neighbor\",\"line\":{\"color\":\"#FF7F0E\",\"dash\":\"solid\"},\"marker\":{\"symbol\":\"circle\"},\"mode\":\"lines\",\"name\":\"random_neighbor\",\"orientation\":\"v\",\"showlegend\":false,\"type\":\"scatter\",\"x\":[10,50],\"xaxis\":\"x2\",\"y\":[385.08,786601.92],\"yaxis\":\"y2\"},{\"hovertemplate\":\"Neighborhood Function=random_neighbor<br># Tasks=10<br>Base=e<br>T=0 Temp=100.0<br># Nodes=%{x}<br>Cost=%{y}<extra></extra>\",\"legendgroup\":\"random_neighbor\",\"line\":{\"color\":\"#FF7F0E\",\"dash\":\"solid\"},\"marker\":{\"symbol\":\"circle\"},\"mode\":\"lines\",\"name\":\"random_neighbor\",\"orientation\":\"v\",\"showlegend\":false,\"type\":\"scatter\",\"x\":[10,50],\"xaxis\":\"x3\",\"y\":[422.44,614981.9],\"yaxis\":\"y3\"}],                        {\"annotations\":[{\"font\":{},\"showarrow\":false,\"text\":\"T=0 Temp=10.0\",\"x\":0.15666666666666665,\"xanchor\":\"center\",\"xref\":\"paper\",\"y\":0.9999999999999998,\"yanchor\":\"bottom\",\"yref\":\"paper\"},{\"font\":{},\"showarrow\":false,\"text\":\"T=0 Temp=50.0\",\"x\":0.49,\"xanchor\":\"center\",\"xref\":\"paper\",\"y\":0.9999999999999998,\"yanchor\":\"bottom\",\"yref\":\"paper\"},{\"font\":{},\"showarrow\":false,\"text\":\"T=0 Temp=100.0\",\"x\":0.8233333333333333,\"xanchor\":\"center\",\"xref\":\"paper\",\"y\":0.9999999999999998,\"yanchor\":\"bottom\",\"yref\":\"paper\"},{\"font\":{},\"showarrow\":false,\"text\":\"Base=e\",\"textangle\":90,\"x\":0.98,\"xanchor\":\"left\",\"xref\":\"paper\",\"y\":0.15666666666666665,\"yanchor\":\"middle\",\"yref\":\"paper\"},{\"font\":{},\"showarrow\":false,\"text\":\"Base=1.00\",\"textangle\":90,\"x\":0.98,\"xanchor\":\"left\",\"xref\":\"paper\",\"y\":0.4999999999999999,\"yanchor\":\"middle\",\"yref\":\"paper\"},{\"font\":{},\"showarrow\":false,\"text\":\"Base=0.00\",\"textangle\":90,\"x\":0.98,\"xanchor\":\"left\",\"xref\":\"paper\",\"y\":0.8433333333333332,\"yanchor\":\"middle\",\"yref\":\"paper\"}],\"legend\":{\"title\":{\"text\":\"Neighborhood Function\"},\"tracegroupgap\":0},\"margin\":{\"t\":60},\"sliders\":[{\"active\":0,\"currentvalue\":{\"prefix\":\"# Tasks=\"},\"len\":0.9,\"pad\":{\"b\":10,\"t\":60},\"steps\":[{\"args\":[[\"10\"],{\"frame\":{\"duration\":0,\"redraw\":false},\"fromcurrent\":true,\"mode\":\"immediate\",\"transition\":{\"duration\":0,\"easing\":\"linear\"}}],\"label\":\"10\",\"method\":\"animate\"},{\"args\":[[\"50\"],{\"frame\":{\"duration\":0,\"redraw\":false},\"fromcurrent\":true,\"mode\":\"immediate\",\"transition\":{\"duration\":0,\"easing\":\"linear\"}}],\"label\":\"50\",\"method\":\"animate\"},{\"args\":[[\"100\"],{\"frame\":{\"duration\":0,\"redraw\":false},\"fromcurrent\":true,\"mode\":\"immediate\",\"transition\":{\"duration\":0,\"easing\":\"linear\"}}],\"label\":\"100\",\"method\":\"animate\"}],\"x\":0.1,\"xanchor\":\"left\",\"y\":0,\"yanchor\":\"top\"}],\"template\":{\"data\":{\"bar\":[{\"error_x\":{\"color\":\"rgb(36,36,36)\"},\"error_y\":{\"color\":\"rgb(36,36,36)\"},\"marker\":{\"line\":{\"color\":\"white\",\"width\":0.5},\"pattern\":{\"fillmode\":\"overlay\",\"size\":10,\"solidity\":0.2}},\"type\":\"bar\"}],\"barpolar\":[{\"marker\":{\"line\":{\"color\":\"white\",\"width\":0.5},\"pattern\":{\"fillmode\":\"overlay\",\"size\":10,\"solidity\":0.2}},\"type\":\"barpolar\"}],\"carpet\":[{\"aaxis\":{\"endlinecolor\":\"rgb(36,36,36)\",\"gridcolor\":\"white\",\"linecolor\":\"white\",\"minorgridcolor\":\"white\",\"startlinecolor\":\"rgb(36,36,36)\"},\"baxis\":{\"endlinecolor\":\"rgb(36,36,36)\",\"gridcolor\":\"white\",\"linecolor\":\"white\",\"minorgridcolor\":\"white\",\"startlinecolor\":\"rgb(36,36,36)\"},\"type\":\"carpet\"}],\"choropleth\":[{\"colorbar\":{\"outlinewidth\":1,\"tickcolor\":\"rgb(36,36,36)\",\"ticks\":\"outside\"},\"type\":\"choropleth\"}],\"contour\":[{\"colorbar\":{\"outlinewidth\":1,\"tickcolor\":\"rgb(36,36,36)\",\"ticks\":\"outside\"},\"colorscale\":[[0.0,\"#440154\"],[0.1111111111111111,\"#482878\"],[0.2222222222222222,\"#3e4989\"],[0.3333333333333333,\"#31688e\"],[0.4444444444444444,\"#26828e\"],[0.5555555555555556,\"#1f9e89\"],[0.6666666666666666,\"#35b779\"],[0.7777777777777778,\"#6ece58\"],[0.8888888888888888,\"#b5de2b\"],[1.0,\"#fde725\"]],\"type\":\"contour\"}],\"contourcarpet\":[{\"colorbar\":{\"outlinewidth\":1,\"tickcolor\":\"rgb(36,36,36)\",\"ticks\":\"outside\"},\"type\":\"contourcarpet\"}],\"heatmap\":[{\"colorbar\":{\"outlinewidth\":1,\"tickcolor\":\"rgb(36,36,36)\",\"ticks\":\"outside\"},\"colorscale\":[[0.0,\"#440154\"],[0.1111111111111111,\"#482878\"],[0.2222222222222222,\"#3e4989\"],[0.3333333333333333,\"#31688e\"],[0.4444444444444444,\"#26828e\"],[0.5555555555555556,\"#1f9e89\"],[0.6666666666666666,\"#35b779\"],[0.7777777777777778,\"#6ece58\"],[0.8888888888888888,\"#b5de2b\"],[1.0,\"#fde725\"]],\"type\":\"heatmap\"}],\"heatmapgl\":[{\"colorbar\":{\"outlinewidth\":1,\"tickcolor\":\"rgb(36,36,36)\",\"ticks\":\"outside\"},\"colorscale\":[[0.0,\"#440154\"],[0.1111111111111111,\"#482878\"],[0.2222222222222222,\"#3e4989\"],[0.3333333333333333,\"#31688e\"],[0.4444444444444444,\"#26828e\"],[0.5555555555555556,\"#1f9e89\"],[0.6666666666666666,\"#35b779\"],[0.7777777777777778,\"#6ece58\"],[0.8888888888888888,\"#b5de2b\"],[1.0,\"#fde725\"]],\"type\":\"heatmapgl\"}],\"histogram\":[{\"marker\":{\"line\":{\"color\":\"white\",\"width\":0.6}},\"type\":\"histogram\"}],\"histogram2d\":[{\"colorbar\":{\"outlinewidth\":1,\"tickcolor\":\"rgb(36,36,36)\",\"ticks\":\"outside\"},\"colorscale\":[[0.0,\"#440154\"],[0.1111111111111111,\"#482878\"],[0.2222222222222222,\"#3e4989\"],[0.3333333333333333,\"#31688e\"],[0.4444444444444444,\"#26828e\"],[0.5555555555555556,\"#1f9e89\"],[0.6666666666666666,\"#35b779\"],[0.7777777777777778,\"#6ece58\"],[0.8888888888888888,\"#b5de2b\"],[1.0,\"#fde725\"]],\"type\":\"histogram2d\"}],\"histogram2dcontour\":[{\"colorbar\":{\"outlinewidth\":1,\"tickcolor\":\"rgb(36,36,36)\",\"ticks\":\"outside\"},\"colorscale\":[[0.0,\"#440154\"],[0.1111111111111111,\"#482878\"],[0.2222222222222222,\"#3e4989\"],[0.3333333333333333,\"#31688e\"],[0.4444444444444444,\"#26828e\"],[0.5555555555555556,\"#1f9e89\"],[0.6666666666666666,\"#35b779\"],[0.7777777777777778,\"#6ece58\"],[0.8888888888888888,\"#b5de2b\"],[1.0,\"#fde725\"]],\"type\":\"histogram2dcontour\"}],\"mesh3d\":[{\"colorbar\":{\"outlinewidth\":1,\"tickcolor\":\"rgb(36,36,36)\",\"ticks\":\"outside\"},\"type\":\"mesh3d\"}],\"parcoords\":[{\"line\":{\"colorbar\":{\"outlinewidth\":1,\"tickcolor\":\"rgb(36,36,36)\",\"ticks\":\"outside\"}},\"type\":\"parcoords\"}],\"pie\":[{\"automargin\":true,\"type\":\"pie\"}],\"scatter\":[{\"marker\":{\"colorbar\":{\"outlinewidth\":1,\"tickcolor\":\"rgb(36,36,36)\",\"ticks\":\"outside\"}},\"type\":\"scatter\"}],\"scatter3d\":[{\"line\":{\"colorbar\":{\"outlinewidth\":1,\"tickcolor\":\"rgb(36,36,36)\",\"ticks\":\"outside\"}},\"marker\":{\"colorbar\":{\"outlinewidth\":1,\"tickcolor\":\"rgb(36,36,36)\",\"ticks\":\"outside\"}},\"type\":\"scatter3d\"}],\"scattercarpet\":[{\"marker\":{\"colorbar\":{\"outlinewidth\":1,\"tickcolor\":\"rgb(36,36,36)\",\"ticks\":\"outside\"}},\"type\":\"scattercarpet\"}],\"scattergeo\":[{\"marker\":{\"colorbar\":{\"outlinewidth\":1,\"tickcolor\":\"rgb(36,36,36)\",\"ticks\":\"outside\"}},\"type\":\"scattergeo\"}],\"scattergl\":[{\"marker\":{\"colorbar\":{\"outlinewidth\":1,\"tickcolor\":\"rgb(36,36,36)\",\"ticks\":\"outside\"}},\"type\":\"scattergl\"}],\"scattermapbox\":[{\"marker\":{\"colorbar\":{\"outlinewidth\":1,\"tickcolor\":\"rgb(36,36,36)\",\"ticks\":\"outside\"}},\"type\":\"scattermapbox\"}],\"scatterpolar\":[{\"marker\":{\"colorbar\":{\"outlinewidth\":1,\"tickcolor\":\"rgb(36,36,36)\",\"ticks\":\"outside\"}},\"type\":\"scatterpolar\"}],\"scatterpolargl\":[{\"marker\":{\"colorbar\":{\"outlinewidth\":1,\"tickcolor\":\"rgb(36,36,36)\",\"ticks\":\"outside\"}},\"type\":\"scatterpolargl\"}],\"scatterternary\":[{\"marker\":{\"colorbar\":{\"outlinewidth\":1,\"tickcolor\":\"rgb(36,36,36)\",\"ticks\":\"outside\"}},\"type\":\"scatterternary\"}],\"surface\":[{\"colorbar\":{\"outlinewidth\":1,\"tickcolor\":\"rgb(36,36,36)\",\"ticks\":\"outside\"},\"colorscale\":[[0.0,\"#440154\"],[0.1111111111111111,\"#482878\"],[0.2222222222222222,\"#3e4989\"],[0.3333333333333333,\"#31688e\"],[0.4444444444444444,\"#26828e\"],[0.5555555555555556,\"#1f9e89\"],[0.6666666666666666,\"#35b779\"],[0.7777777777777778,\"#6ece58\"],[0.8888888888888888,\"#b5de2b\"],[1.0,\"#fde725\"]],\"type\":\"surface\"}],\"table\":[{\"cells\":{\"fill\":{\"color\":\"rgb(237,237,237)\"},\"line\":{\"color\":\"white\"}},\"header\":{\"fill\":{\"color\":\"rgb(217,217,217)\"},\"line\":{\"color\":\"white\"}},\"type\":\"table\"}]},\"layout\":{\"annotationdefaults\":{\"arrowhead\":0,\"arrowwidth\":1},\"autotypenumbers\":\"strict\",\"coloraxis\":{\"colorbar\":{\"outlinewidth\":1,\"tickcolor\":\"rgb(36,36,36)\",\"ticks\":\"outside\"}},\"colorscale\":{\"diverging\":[[0.0,\"rgb(103,0,31)\"],[0.1,\"rgb(178,24,43)\"],[0.2,\"rgb(214,96,77)\"],[0.3,\"rgb(244,165,130)\"],[0.4,\"rgb(253,219,199)\"],[0.5,\"rgb(247,247,247)\"],[0.6,\"rgb(209,229,240)\"],[0.7,\"rgb(146,197,222)\"],[0.8,\"rgb(67,147,195)\"],[0.9,\"rgb(33,102,172)\"],[1.0,\"rgb(5,48,97)\"]],\"sequential\":[[0.0,\"#440154\"],[0.1111111111111111,\"#482878\"],[0.2222222222222222,\"#3e4989\"],[0.3333333333333333,\"#31688e\"],[0.4444444444444444,\"#26828e\"],[0.5555555555555556,\"#1f9e89\"],[0.6666666666666666,\"#35b779\"],[0.7777777777777778,\"#6ece58\"],[0.8888888888888888,\"#b5de2b\"],[1.0,\"#fde725\"]],\"sequentialminus\":[[0.0,\"#440154\"],[0.1111111111111111,\"#482878\"],[0.2222222222222222,\"#3e4989\"],[0.3333333333333333,\"#31688e\"],[0.4444444444444444,\"#26828e\"],[0.5555555555555556,\"#1f9e89\"],[0.6666666666666666,\"#35b779\"],[0.7777777777777778,\"#6ece58\"],[0.8888888888888888,\"#b5de2b\"],[1.0,\"#fde725\"]]},\"colorway\":[\"#1F77B4\",\"#FF7F0E\",\"#2CA02C\",\"#D62728\",\"#9467BD\",\"#8C564B\",\"#E377C2\",\"#7F7F7F\",\"#BCBD22\",\"#17BECF\"],\"font\":{\"color\":\"rgb(36,36,36)\"},\"geo\":{\"bgcolor\":\"white\",\"lakecolor\":\"white\",\"landcolor\":\"white\",\"showlakes\":true,\"showland\":true,\"subunitcolor\":\"white\"},\"hoverlabel\":{\"align\":\"left\"},\"hovermode\":\"closest\",\"mapbox\":{\"style\":\"light\"},\"paper_bgcolor\":\"white\",\"plot_bgcolor\":\"white\",\"polar\":{\"angularaxis\":{\"gridcolor\":\"rgb(232,232,232)\",\"linecolor\":\"rgb(36,36,36)\",\"showgrid\":false,\"showline\":true,\"ticks\":\"outside\"},\"bgcolor\":\"white\",\"radialaxis\":{\"gridcolor\":\"rgb(232,232,232)\",\"linecolor\":\"rgb(36,36,36)\",\"showgrid\":false,\"showline\":true,\"ticks\":\"outside\"}},\"scene\":{\"xaxis\":{\"backgroundcolor\":\"white\",\"gridcolor\":\"rgb(232,232,232)\",\"gridwidth\":2,\"linecolor\":\"rgb(36,36,36)\",\"showbackground\":true,\"showgrid\":false,\"showline\":true,\"ticks\":\"outside\",\"zeroline\":false,\"zerolinecolor\":\"rgb(36,36,36)\"},\"yaxis\":{\"backgroundcolor\":\"white\",\"gridcolor\":\"rgb(232,232,232)\",\"gridwidth\":2,\"linecolor\":\"rgb(36,36,36)\",\"showbackground\":true,\"showgrid\":false,\"showline\":true,\"ticks\":\"outside\",\"zeroline\":false,\"zerolinecolor\":\"rgb(36,36,36)\"},\"zaxis\":{\"backgroundcolor\":\"white\",\"gridcolor\":\"rgb(232,232,232)\",\"gridwidth\":2,\"linecolor\":\"rgb(36,36,36)\",\"showbackground\":true,\"showgrid\":false,\"showline\":true,\"ticks\":\"outside\",\"zeroline\":false,\"zerolinecolor\":\"rgb(36,36,36)\"}},\"shapedefaults\":{\"fillcolor\":\"black\",\"line\":{\"width\":0},\"opacity\":0.3},\"ternary\":{\"aaxis\":{\"gridcolor\":\"rgb(232,232,232)\",\"linecolor\":\"rgb(36,36,36)\",\"showgrid\":false,\"showline\":true,\"ticks\":\"outside\"},\"baxis\":{\"gridcolor\":\"rgb(232,232,232)\",\"linecolor\":\"rgb(36,36,36)\",\"showgrid\":false,\"showline\":true,\"ticks\":\"outside\"},\"bgcolor\":\"white\",\"caxis\":{\"gridcolor\":\"rgb(232,232,232)\",\"linecolor\":\"rgb(36,36,36)\",\"showgrid\":false,\"showline\":true,\"ticks\":\"outside\"}},\"title\":{\"x\":0.05},\"xaxis\":{\"automargin\":true,\"gridcolor\":\"rgb(232,232,232)\",\"linecolor\":\"rgb(36,36,36)\",\"showgrid\":false,\"showline\":true,\"ticks\":\"outside\",\"title\":{\"standoff\":15},\"zeroline\":false,\"zerolinecolor\":\"rgb(36,36,36)\"},\"yaxis\":{\"automargin\":true,\"gridcolor\":\"rgb(232,232,232)\",\"linecolor\":\"rgb(36,36,36)\",\"showgrid\":false,\"showline\":true,\"ticks\":\"outside\",\"title\":{\"standoff\":15},\"zeroline\":false,\"zerolinecolor\":\"rgb(36,36,36)\"}}},\"updatemenus\":[{\"buttons\":[{\"args\":[null,{\"frame\":{\"duration\":500,\"redraw\":false},\"fromcurrent\":true,\"mode\":\"immediate\",\"transition\":{\"duration\":500,\"easing\":\"linear\"}}],\"label\":\"&#9654;\",\"method\":\"animate\"},{\"args\":[[null],{\"frame\":{\"duration\":0,\"redraw\":false},\"fromcurrent\":true,\"mode\":\"immediate\",\"transition\":{\"duration\":0,\"easing\":\"linear\"}}],\"label\":\"&#9724;\",\"method\":\"animate\"}],\"direction\":\"left\",\"pad\":{\"r\":10,\"t\":70},\"showactive\":false,\"type\":\"buttons\",\"x\":0.1,\"xanchor\":\"right\",\"y\":0,\"yanchor\":\"top\"}],\"xaxis\":{\"anchor\":\"y\",\"domain\":[0.0,0.3133333333333333],\"title\":{\"text\":\"# Nodes\"}},\"xaxis2\":{\"anchor\":\"y2\",\"domain\":[0.3333333333333333,0.6466666666666666],\"matches\":\"x\",\"title\":{\"text\":\"# Nodes\"}},\"xaxis3\":{\"anchor\":\"y3\",\"domain\":[0.6666666666666666,0.98],\"matches\":\"x\",\"title\":{\"text\":\"# Nodes\"}},\"xaxis4\":{\"anchor\":\"y4\",\"domain\":[0.0,0.3133333333333333],\"matches\":\"x\",\"showticklabels\":false},\"xaxis5\":{\"anchor\":\"y5\",\"domain\":[0.3333333333333333,0.6466666666666666],\"matches\":\"x\",\"showticklabels\":false},\"xaxis6\":{\"anchor\":\"y6\",\"domain\":[0.6666666666666666,0.98],\"matches\":\"x\",\"showticklabels\":false},\"xaxis7\":{\"anchor\":\"y7\",\"domain\":[0.0,0.3133333333333333],\"matches\":\"x\",\"showticklabels\":false},\"xaxis8\":{\"anchor\":\"y8\",\"domain\":[0.3333333333333333,0.6466666666666666],\"matches\":\"x\",\"showticklabels\":false},\"xaxis9\":{\"anchor\":\"y9\",\"domain\":[0.6666666666666666,0.98],\"matches\":\"x\",\"showticklabels\":false},\"yaxis\":{\"anchor\":\"x\",\"domain\":[0.0,0.3133333333333333],\"title\":{\"text\":\"Cost\"}},\"yaxis2\":{\"anchor\":\"x2\",\"domain\":[0.0,0.3133333333333333],\"matches\":\"y\",\"showticklabels\":false},\"yaxis3\":{\"anchor\":\"x3\",\"domain\":[0.0,0.3133333333333333],\"matches\":\"y\",\"showticklabels\":false},\"yaxis4\":{\"anchor\":\"x4\",\"domain\":[0.34333333333333327,0.6566666666666665],\"matches\":\"y\",\"title\":{\"text\":\"Cost\"}},\"yaxis5\":{\"anchor\":\"x5\",\"domain\":[0.34333333333333327,0.6566666666666665],\"matches\":\"y\",\"showticklabels\":false},\"yaxis6\":{\"anchor\":\"x6\",\"domain\":[0.34333333333333327,0.6566666666666665],\"matches\":\"y\",\"showticklabels\":false},\"yaxis7\":{\"anchor\":\"x7\",\"domain\":[0.6866666666666665,0.9999999999999998],\"matches\":\"y\",\"title\":{\"text\":\"Cost\"}},\"yaxis8\":{\"anchor\":\"x8\",\"domain\":[0.6866666666666665,0.9999999999999998],\"matches\":\"y\",\"showticklabels\":false},\"yaxis9\":{\"anchor\":\"x9\",\"domain\":[0.6866666666666665,0.9999999999999998],\"matches\":\"y\",\"showticklabels\":false}},                        {\"responsive\": true}                    ).then(function(){\n",
       "                            Plotly.addFrames('1771ad07-36de-430b-98d8-459e9f4c68d9', [{\"data\":[{\"hovertemplate\":\"Neighborhood Function=random_connected_neighbor<br># Tasks=10<br>Base=0.00<br>T=0 Temp=10.0<br># Nodes=%{x}<br>Cost=%{y}<extra></extra>\",\"legendgroup\":\"random_connected_neighbor\",\"line\":{\"color\":\"#1F77B4\",\"dash\":\"solid\"},\"marker\":{\"symbol\":\"circle\"},\"mode\":\"lines\",\"name\":\"random_connected_neighbor\",\"orientation\":\"v\",\"showlegend\":true,\"type\":\"scatter\",\"x\":[10,50],\"xaxis\":\"x7\",\"y\":[217.7,401823.48],\"yaxis\":\"y7\"},{\"hovertemplate\":\"Neighborhood Function=random_connected_neighbor<br># Tasks=10<br>Base=0.00<br>T=0 Temp=50.0<br># Nodes=%{x}<br>Cost=%{y}<extra></extra>\",\"legendgroup\":\"random_connected_neighbor\",\"line\":{\"color\":\"#1F77B4\",\"dash\":\"solid\"},\"marker\":{\"symbol\":\"circle\"},\"mode\":\"lines\",\"name\":\"random_connected_neighbor\",\"orientation\":\"v\",\"showlegend\":false,\"type\":\"scatter\",\"x\":[10,50],\"xaxis\":\"x8\",\"y\":[241.66,289217.34],\"yaxis\":\"y8\"},{\"hovertemplate\":\"Neighborhood Function=random_connected_neighbor<br># Tasks=10<br>Base=0.00<br>T=0 Temp=100.0<br># Nodes=%{x}<br>Cost=%{y}<extra></extra>\",\"legendgroup\":\"random_connected_neighbor\",\"line\":{\"color\":\"#1F77B4\",\"dash\":\"solid\"},\"marker\":{\"symbol\":\"circle\"},\"mode\":\"lines\",\"name\":\"random_connected_neighbor\",\"orientation\":\"v\",\"showlegend\":false,\"type\":\"scatter\",\"x\":[10,50],\"xaxis\":\"x9\",\"y\":[2303.02,458473.72],\"yaxis\":\"y9\"},{\"hovertemplate\":\"Neighborhood Function=random_connected_neighbor<br># Tasks=10<br>Base=1.00<br>T=0 Temp=10.0<br># Nodes=%{x}<br>Cost=%{y}<extra></extra>\",\"legendgroup\":\"random_connected_neighbor\",\"line\":{\"color\":\"#1F77B4\",\"dash\":\"solid\"},\"marker\":{\"symbol\":\"circle\"},\"mode\":\"lines\",\"name\":\"random_connected_neighbor\",\"orientation\":\"v\",\"showlegend\":false,\"type\":\"scatter\",\"x\":[10,50],\"xaxis\":\"x4\",\"y\":[4922.5,73632.34],\"yaxis\":\"y4\"},{\"hovertemplate\":\"Neighborhood Function=random_connected_neighbor<br># Tasks=10<br>Base=1.00<br>T=0 Temp=50.0<br># Nodes=%{x}<br>Cost=%{y}<extra></extra>\",\"legendgroup\":\"random_connected_neighbor\",\"line\":{\"color\":\"#1F77B4\",\"dash\":\"solid\"},\"marker\":{\"symbol\":\"circle\"},\"mode\":\"lines\",\"name\":\"random_connected_neighbor\",\"orientation\":\"v\",\"showlegend\":false,\"type\":\"scatter\",\"x\":[10,50],\"xaxis\":\"x5\",\"y\":[6829.68,158883.36],\"yaxis\":\"y5\"},{\"hovertemplate\":\"Neighborhood Function=random_connected_neighbor<br># Tasks=10<br>Base=1.00<br>T=0 Temp=100.0<br># Nodes=%{x}<br>Cost=%{y}<extra></extra>\",\"legendgroup\":\"random_connected_neighbor\",\"line\":{\"color\":\"#1F77B4\",\"dash\":\"solid\"},\"marker\":{\"symbol\":\"circle\"},\"mode\":\"lines\",\"name\":\"random_connected_neighbor\",\"orientation\":\"v\",\"showlegend\":false,\"type\":\"scatter\",\"x\":[10,50],\"xaxis\":\"x6\",\"y\":[6844.9,201339.72],\"yaxis\":\"y6\"},{\"hovertemplate\":\"Neighborhood Function=random_connected_neighbor<br># Tasks=10<br>Base=e<br>T=0 Temp=10.0<br># Nodes=%{x}<br>Cost=%{y}<extra></extra>\",\"legendgroup\":\"random_connected_neighbor\",\"line\":{\"color\":\"#1F77B4\",\"dash\":\"solid\"},\"marker\":{\"symbol\":\"circle\"},\"mode\":\"lines\",\"name\":\"random_connected_neighbor\",\"orientation\":\"v\",\"showlegend\":false,\"type\":\"scatter\",\"x\":[10,50],\"xaxis\":\"x\",\"y\":[592.96,239135.68],\"yaxis\":\"y\"},{\"hovertemplate\":\"Neighborhood Function=random_connected_neighbor<br># Tasks=10<br>Base=e<br>T=0 Temp=50.0<br># Nodes=%{x}<br>Cost=%{y}<extra></extra>\",\"legendgroup\":\"random_connected_neighbor\",\"line\":{\"color\":\"#1F77B4\",\"dash\":\"solid\"},\"marker\":{\"symbol\":\"circle\"},\"mode\":\"lines\",\"name\":\"random_connected_neighbor\",\"orientation\":\"v\",\"showlegend\":false,\"type\":\"scatter\",\"x\":[10,50],\"xaxis\":\"x2\",\"y\":[350.88,432774.72],\"yaxis\":\"y2\"},{\"hovertemplate\":\"Neighborhood Function=random_connected_neighbor<br># Tasks=10<br>Base=e<br>T=0 Temp=100.0<br># Nodes=%{x}<br>Cost=%{y}<extra></extra>\",\"legendgroup\":\"random_connected_neighbor\",\"line\":{\"color\":\"#1F77B4\",\"dash\":\"solid\"},\"marker\":{\"symbol\":\"circle\"},\"mode\":\"lines\",\"name\":\"random_connected_neighbor\",\"orientation\":\"v\",\"showlegend\":false,\"type\":\"scatter\",\"x\":[10,50],\"xaxis\":\"x3\",\"y\":[7086.16,398215.64],\"yaxis\":\"y3\"},{\"hovertemplate\":\"Neighborhood Function=random_neighbor<br># Tasks=10<br>Base=0.00<br>T=0 Temp=10.0<br># Nodes=%{x}<br>Cost=%{y}<extra></extra>\",\"legendgroup\":\"random_neighbor\",\"line\":{\"color\":\"#FF7F0E\",\"dash\":\"solid\"},\"marker\":{\"symbol\":\"circle\"},\"mode\":\"lines\",\"name\":\"random_neighbor\",\"orientation\":\"v\",\"showlegend\":true,\"type\":\"scatter\",\"x\":[10,50],\"xaxis\":\"x7\",\"y\":[64.4,763818.28],\"yaxis\":\"y7\"},{\"hovertemplate\":\"Neighborhood Function=random_neighbor<br># Tasks=10<br>Base=0.00<br>T=0 Temp=50.0<br># Nodes=%{x}<br>Cost=%{y}<extra></extra>\",\"legendgroup\":\"random_neighbor\",\"line\":{\"color\":\"#FF7F0E\",\"dash\":\"solid\"},\"marker\":{\"symbol\":\"circle\"},\"mode\":\"lines\",\"name\":\"random_neighbor\",\"orientation\":\"v\",\"showlegend\":false,\"type\":\"scatter\",\"x\":[10,50],\"xaxis\":\"x8\",\"y\":[8951.1,685690.34],\"yaxis\":\"y8\"},{\"hovertemplate\":\"Neighborhood Function=random_neighbor<br># Tasks=10<br>Base=0.00<br>T=0 Temp=100.0<br># Nodes=%{x}<br>Cost=%{y}<extra></extra>\",\"legendgroup\":\"random_neighbor\",\"line\":{\"color\":\"#FF7F0E\",\"dash\":\"solid\"},\"marker\":{\"symbol\":\"circle\"},\"mode\":\"lines\",\"name\":\"random_neighbor\",\"orientation\":\"v\",\"showlegend\":false,\"type\":\"scatter\",\"x\":[10,50],\"xaxis\":\"x9\",\"y\":[6625.58,821507.52],\"yaxis\":\"y9\"},{\"hovertemplate\":\"Neighborhood Function=random_neighbor<br># Tasks=10<br>Base=1.00<br>T=0 Temp=10.0<br># Nodes=%{x}<br>Cost=%{y}<extra></extra>\",\"legendgroup\":\"random_neighbor\",\"line\":{\"color\":\"#FF7F0E\",\"dash\":\"solid\"},\"marker\":{\"symbol\":\"circle\"},\"mode\":\"lines\",\"name\":\"random_neighbor\",\"orientation\":\"v\",\"showlegend\":false,\"type\":\"scatter\",\"x\":[10,50],\"xaxis\":\"x4\",\"y\":[8940.48,307761.74],\"yaxis\":\"y4\"},{\"hovertemplate\":\"Neighborhood Function=random_neighbor<br># Tasks=10<br>Base=1.00<br>T=0 Temp=50.0<br># Nodes=%{x}<br>Cost=%{y}<extra></extra>\",\"legendgroup\":\"random_neighbor\",\"line\":{\"color\":\"#FF7F0E\",\"dash\":\"solid\"},\"marker\":{\"symbol\":\"circle\"},\"mode\":\"lines\",\"name\":\"random_neighbor\",\"orientation\":\"v\",\"showlegend\":false,\"type\":\"scatter\",\"x\":[10,50],\"xaxis\":\"x5\",\"y\":[6567.04,672999.1],\"yaxis\":\"y5\"},{\"hovertemplate\":\"Neighborhood Function=random_neighbor<br># Tasks=10<br>Base=1.00<br>T=0 Temp=100.0<br># Nodes=%{x}<br>Cost=%{y}<extra></extra>\",\"legendgroup\":\"random_neighbor\",\"line\":{\"color\":\"#FF7F0E\",\"dash\":\"solid\"},\"marker\":{\"symbol\":\"circle\"},\"mode\":\"lines\",\"name\":\"random_neighbor\",\"orientation\":\"v\",\"showlegend\":false,\"type\":\"scatter\",\"x\":[10,50],\"xaxis\":\"x6\",\"y\":[420.68,506081.8],\"yaxis\":\"y6\"},{\"hovertemplate\":\"Neighborhood Function=random_neighbor<br># Tasks=10<br>Base=e<br>T=0 Temp=10.0<br># Nodes=%{x}<br>Cost=%{y}<extra></extra>\",\"legendgroup\":\"random_neighbor\",\"line\":{\"color\":\"#FF7F0E\",\"dash\":\"solid\"},\"marker\":{\"symbol\":\"circle\"},\"mode\":\"lines\",\"name\":\"random_neighbor\",\"orientation\":\"v\",\"showlegend\":false,\"type\":\"scatter\",\"x\":[10,50],\"xaxis\":\"x\",\"y\":[240.22,81755.4],\"yaxis\":\"y\"},{\"hovertemplate\":\"Neighborhood Function=random_neighbor<br># Tasks=10<br>Base=e<br>T=0 Temp=50.0<br># Nodes=%{x}<br>Cost=%{y}<extra></extra>\",\"legendgroup\":\"random_neighbor\",\"line\":{\"color\":\"#FF7F0E\",\"dash\":\"solid\"},\"marker\":{\"symbol\":\"circle\"},\"mode\":\"lines\",\"name\":\"random_neighbor\",\"orientation\":\"v\",\"showlegend\":false,\"type\":\"scatter\",\"x\":[10,50],\"xaxis\":\"x2\",\"y\":[385.08,786601.92],\"yaxis\":\"y2\"},{\"hovertemplate\":\"Neighborhood Function=random_neighbor<br># Tasks=10<br>Base=e<br>T=0 Temp=100.0<br># Nodes=%{x}<br>Cost=%{y}<extra></extra>\",\"legendgroup\":\"random_neighbor\",\"line\":{\"color\":\"#FF7F0E\",\"dash\":\"solid\"},\"marker\":{\"symbol\":\"circle\"},\"mode\":\"lines\",\"name\":\"random_neighbor\",\"orientation\":\"v\",\"showlegend\":false,\"type\":\"scatter\",\"x\":[10,50],\"xaxis\":\"x3\",\"y\":[422.44,614981.9],\"yaxis\":\"y3\"}],\"name\":\"10\"},{\"data\":[{\"hovertemplate\":\"Neighborhood Function=random_connected_neighbor<br># Tasks=50<br>Base=0.00<br>T=0 Temp=10.0<br># Nodes=%{x}<br>Cost=%{y}<extra></extra>\",\"legendgroup\":\"random_connected_neighbor\",\"line\":{\"color\":\"#1F77B4\",\"dash\":\"solid\"},\"marker\":{\"symbol\":\"circle\"},\"mode\":\"lines\",\"name\":\"random_connected_neighbor\",\"orientation\":\"v\",\"showlegend\":true,\"type\":\"scatter\",\"x\":[10,50],\"xaxis\":\"x7\",\"y\":[153.64,404042.3],\"yaxis\":\"y7\"},{\"hovertemplate\":\"Neighborhood Function=random_connected_neighbor<br># Tasks=50<br>Base=0.00<br>T=0 Temp=50.0<br># Nodes=%{x}<br>Cost=%{y}<extra></extra>\",\"legendgroup\":\"random_connected_neighbor\",\"line\":{\"color\":\"#1F77B4\",\"dash\":\"solid\"},\"marker\":{\"symbol\":\"circle\"},\"mode\":\"lines\",\"name\":\"random_connected_neighbor\",\"orientation\":\"v\",\"showlegend\":false,\"type\":\"scatter\",\"x\":[10,50],\"xaxis\":\"x8\",\"y\":[2254.16,255003.16],\"yaxis\":\"y8\"},{\"hovertemplate\":\"Neighborhood Function=random_connected_neighbor<br># Tasks=50<br>Base=0.00<br>T=0 Temp=100.0<br># Nodes=%{x}<br>Cost=%{y}<extra></extra>\",\"legendgroup\":\"random_connected_neighbor\",\"line\":{\"color\":\"#1F77B4\",\"dash\":\"solid\"},\"marker\":{\"symbol\":\"circle\"},\"mode\":\"lines\",\"name\":\"random_connected_neighbor\",\"orientation\":\"v\",\"showlegend\":false,\"type\":\"scatter\",\"x\":[10,50],\"xaxis\":\"x9\",\"y\":[4466.58,502363.1],\"yaxis\":\"y9\"},{\"hovertemplate\":\"Neighborhood Function=random_connected_neighbor<br># Tasks=50<br>Base=1.00<br>T=0 Temp=10.0<br># Nodes=%{x}<br>Cost=%{y}<extra></extra>\",\"legendgroup\":\"random_connected_neighbor\",\"line\":{\"color\":\"#1F77B4\",\"dash\":\"solid\"},\"marker\":{\"symbol\":\"circle\"},\"mode\":\"lines\",\"name\":\"random_connected_neighbor\",\"orientation\":\"v\",\"showlegend\":false,\"type\":\"scatter\",\"x\":[10,50],\"xaxis\":\"x4\",\"y\":[358.7,41581.72],\"yaxis\":\"y4\"},{\"hovertemplate\":\"Neighborhood Function=random_connected_neighbor<br># Tasks=50<br>Base=1.00<br>T=0 Temp=50.0<br># Nodes=%{x}<br>Cost=%{y}<extra></extra>\",\"legendgroup\":\"random_connected_neighbor\",\"line\":{\"color\":\"#1F77B4\",\"dash\":\"solid\"},\"marker\":{\"symbol\":\"circle\"},\"mode\":\"lines\",\"name\":\"random_connected_neighbor\",\"orientation\":\"v\",\"showlegend\":false,\"type\":\"scatter\",\"x\":[10,50],\"xaxis\":\"x5\",\"y\":[433.96,526742.66],\"yaxis\":\"y5\"},{\"hovertemplate\":\"Neighborhood Function=random_connected_neighbor<br># Tasks=50<br>Base=1.00<br>T=0 Temp=100.0<br># Nodes=%{x}<br>Cost=%{y}<extra></extra>\",\"legendgroup\":\"random_connected_neighbor\",\"line\":{\"color\":\"#1F77B4\",\"dash\":\"solid\"},\"marker\":{\"symbol\":\"circle\"},\"mode\":\"lines\",\"name\":\"random_connected_neighbor\",\"orientation\":\"v\",\"showlegend\":false,\"type\":\"scatter\",\"x\":[10,50],\"xaxis\":\"x6\",\"y\":[15464.02,240210.14],\"yaxis\":\"y6\"},{\"hovertemplate\":\"Neighborhood Function=random_connected_neighbor<br># Tasks=50<br>Base=e<br>T=0 Temp=10.0<br># Nodes=%{x}<br>Cost=%{y}<extra></extra>\",\"legendgroup\":\"random_connected_neighbor\",\"line\":{\"color\":\"#1F77B4\",\"dash\":\"solid\"},\"marker\":{\"symbol\":\"circle\"},\"mode\":\"lines\",\"name\":\"random_connected_neighbor\",\"orientation\":\"v\",\"showlegend\":false,\"type\":\"scatter\",\"x\":[10,50],\"xaxis\":\"x\",\"y\":[156.52,150294.54],\"yaxis\":\"y\"},{\"hovertemplate\":\"Neighborhood Function=random_connected_neighbor<br># Tasks=50<br>Base=e<br>T=0 Temp=50.0<br># Nodes=%{x}<br>Cost=%{y}<extra></extra>\",\"legendgroup\":\"random_connected_neighbor\",\"line\":{\"color\":\"#1F77B4\",\"dash\":\"solid\"},\"marker\":{\"symbol\":\"circle\"},\"mode\":\"lines\",\"name\":\"random_connected_neighbor\",\"orientation\":\"v\",\"showlegend\":false,\"type\":\"scatter\",\"x\":[10,50],\"xaxis\":\"x2\",\"y\":[8839.7,320828.72],\"yaxis\":\"y2\"},{\"hovertemplate\":\"Neighborhood Function=random_connected_neighbor<br># Tasks=50<br>Base=e<br>T=0 Temp=100.0<br># Nodes=%{x}<br>Cost=%{y}<extra></extra>\",\"legendgroup\":\"random_connected_neighbor\",\"line\":{\"color\":\"#1F77B4\",\"dash\":\"solid\"},\"marker\":{\"symbol\":\"circle\"},\"mode\":\"lines\",\"name\":\"random_connected_neighbor\",\"orientation\":\"v\",\"showlegend\":false,\"type\":\"scatter\",\"x\":[10,50],\"xaxis\":\"x3\",\"y\":[11107.94,47204.28],\"yaxis\":\"y3\"},{\"hovertemplate\":\"Neighborhood Function=random_neighbor<br># Tasks=50<br>Base=0.00<br>T=0 Temp=10.0<br># Nodes=%{x}<br>Cost=%{y}<extra></extra>\",\"legendgroup\":\"random_neighbor\",\"line\":{\"color\":\"#FF7F0E\",\"dash\":\"solid\"},\"marker\":{\"symbol\":\"circle\"},\"mode\":\"lines\",\"name\":\"random_neighbor\",\"orientation\":\"v\",\"showlegend\":true,\"type\":\"scatter\",\"x\":[10],\"xaxis\":\"x7\",\"y\":[262.5],\"yaxis\":\"y7\"},{\"hovertemplate\":\"Neighborhood Function=random_neighbor<br># Tasks=50<br>Base=0.00<br>T=0 Temp=50.0<br># Nodes=%{x}<br>Cost=%{y}<extra></extra>\",\"legendgroup\":\"random_neighbor\",\"line\":{\"color\":\"#FF7F0E\",\"dash\":\"solid\"},\"marker\":{\"symbol\":\"circle\"},\"mode\":\"lines\",\"name\":\"random_neighbor\",\"orientation\":\"v\",\"showlegend\":false,\"type\":\"scatter\",\"x\":[10],\"xaxis\":\"x8\",\"y\":[4349.88],\"yaxis\":\"y8\"},{\"hovertemplate\":\"Neighborhood Function=random_neighbor<br># Tasks=50<br>Base=0.00<br>T=0 Temp=100.0<br># Nodes=%{x}<br>Cost=%{y}<extra></extra>\",\"legendgroup\":\"random_neighbor\",\"line\":{\"color\":\"#FF7F0E\",\"dash\":\"solid\"},\"marker\":{\"symbol\":\"circle\"},\"mode\":\"lines\",\"name\":\"random_neighbor\",\"orientation\":\"v\",\"showlegend\":false,\"type\":\"scatter\",\"x\":[10],\"xaxis\":\"x9\",\"y\":[4534.48],\"yaxis\":\"y9\"},{\"hovertemplate\":\"Neighborhood Function=random_neighbor<br># Tasks=50<br>Base=1.00<br>T=0 Temp=10.0<br># Nodes=%{x}<br>Cost=%{y}<extra></extra>\",\"legendgroup\":\"random_neighbor\",\"line\":{\"color\":\"#FF7F0E\",\"dash\":\"solid\"},\"marker\":{\"symbol\":\"circle\"},\"mode\":\"lines\",\"name\":\"random_neighbor\",\"orientation\":\"v\",\"showlegend\":false,\"type\":\"scatter\",\"x\":[10],\"xaxis\":\"x4\",\"y\":[5035.9],\"yaxis\":\"y4\"},{\"hovertemplate\":\"Neighborhood Function=random_neighbor<br># Tasks=50<br>Base=1.00<br>T=0 Temp=50.0<br># Nodes=%{x}<br>Cost=%{y}<extra></extra>\",\"legendgroup\":\"random_neighbor\",\"line\":{\"color\":\"#FF7F0E\",\"dash\":\"solid\"},\"marker\":{\"symbol\":\"circle\"},\"mode\":\"lines\",\"name\":\"random_neighbor\",\"orientation\":\"v\",\"showlegend\":false,\"type\":\"scatter\",\"x\":[10],\"xaxis\":\"x5\",\"y\":[820.04],\"yaxis\":\"y5\"},{\"hovertemplate\":\"Neighborhood Function=random_neighbor<br># Tasks=50<br>Base=1.00<br>T=0 Temp=100.0<br># Nodes=%{x}<br>Cost=%{y}<extra></extra>\",\"legendgroup\":\"random_neighbor\",\"line\":{\"color\":\"#FF7F0E\",\"dash\":\"solid\"},\"marker\":{\"symbol\":\"circle\"},\"mode\":\"lines\",\"name\":\"random_neighbor\",\"orientation\":\"v\",\"showlegend\":false,\"type\":\"scatter\",\"x\":[10],\"xaxis\":\"x6\",\"y\":[9195.3],\"yaxis\":\"y6\"},{\"hovertemplate\":\"Neighborhood Function=random_neighbor<br># Tasks=50<br>Base=e<br>T=0 Temp=10.0<br># Nodes=%{x}<br>Cost=%{y}<extra></extra>\",\"legendgroup\":\"random_neighbor\",\"line\":{\"color\":\"#FF7F0E\",\"dash\":\"solid\"},\"marker\":{\"symbol\":\"circle\"},\"mode\":\"lines\",\"name\":\"random_neighbor\",\"orientation\":\"v\",\"showlegend\":false,\"type\":\"scatter\",\"x\":[10],\"xaxis\":\"x\",\"y\":[140.0],\"yaxis\":\"y\"},{\"hovertemplate\":\"Neighborhood Function=random_neighbor<br># Tasks=50<br>Base=e<br>T=0 Temp=50.0<br># Nodes=%{x}<br>Cost=%{y}<extra></extra>\",\"legendgroup\":\"random_neighbor\",\"line\":{\"color\":\"#FF7F0E\",\"dash\":\"solid\"},\"marker\":{\"symbol\":\"circle\"},\"mode\":\"lines\",\"name\":\"random_neighbor\",\"orientation\":\"v\",\"showlegend\":false,\"type\":\"scatter\",\"x\":[10],\"xaxis\":\"x2\",\"y\":[607.94],\"yaxis\":\"y2\"},{\"hovertemplate\":\"Neighborhood Function=random_neighbor<br># Tasks=50<br>Base=e<br>T=0 Temp=100.0<br># Nodes=%{x}<br>Cost=%{y}<extra></extra>\",\"legendgroup\":\"random_neighbor\",\"line\":{\"color\":\"#FF7F0E\",\"dash\":\"solid\"},\"marker\":{\"symbol\":\"circle\"},\"mode\":\"lines\",\"name\":\"random_neighbor\",\"orientation\":\"v\",\"showlegend\":false,\"type\":\"scatter\",\"x\":[10],\"xaxis\":\"x3\",\"y\":[4732.755384615384],\"yaxis\":\"y3\"}],\"name\":\"50\"},{\"data\":[{\"hovertemplate\":\"Neighborhood Function=random_connected_neighbor<br># Tasks=100<br>Base=0.00<br>T=0 Temp=10.0<br># Nodes=%{x}<br>Cost=%{y}<extra></extra>\",\"legendgroup\":\"random_connected_neighbor\",\"line\":{\"color\":\"#1F77B4\",\"dash\":\"solid\"},\"marker\":{\"symbol\":\"circle\"},\"mode\":\"lines\",\"name\":\"random_connected_neighbor\",\"orientation\":\"v\",\"showlegend\":true,\"type\":\"scatter\",\"x\":[10],\"xaxis\":\"x7\",\"y\":[19672.74],\"yaxis\":\"y7\"},{\"hovertemplate\":\"Neighborhood Function=random_connected_neighbor<br># Tasks=100<br>Base=0.00<br>T=0 Temp=50.0<br># Nodes=%{x}<br>Cost=%{y}<extra></extra>\",\"legendgroup\":\"random_connected_neighbor\",\"line\":{\"color\":\"#1F77B4\",\"dash\":\"solid\"},\"marker\":{\"symbol\":\"circle\"},\"mode\":\"lines\",\"name\":\"random_connected_neighbor\",\"orientation\":\"v\",\"showlegend\":false,\"type\":\"scatter\",\"x\":[10],\"xaxis\":\"x8\",\"y\":[274.28],\"yaxis\":\"y8\"},{\"hovertemplate\":\"Neighborhood Function=random_connected_neighbor<br># Tasks=100<br>Base=0.00<br>T=0 Temp=100.0<br># Nodes=%{x}<br>Cost=%{y}<extra></extra>\",\"legendgroup\":\"random_connected_neighbor\",\"line\":{\"color\":\"#1F77B4\",\"dash\":\"solid\"},\"marker\":{\"symbol\":\"circle\"},\"mode\":\"lines\",\"name\":\"random_connected_neighbor\",\"orientation\":\"v\",\"showlegend\":false,\"type\":\"scatter\",\"x\":[10],\"xaxis\":\"x9\",\"y\":[4449.08],\"yaxis\":\"y9\"},{\"hovertemplate\":\"Neighborhood Function=random_connected_neighbor<br># Tasks=100<br>Base=1.00<br>T=0 Temp=10.0<br># Nodes=%{x}<br>Cost=%{y}<extra></extra>\",\"legendgroup\":\"random_connected_neighbor\",\"line\":{\"color\":\"#1F77B4\",\"dash\":\"solid\"},\"marker\":{\"symbol\":\"circle\"},\"mode\":\"lines\",\"name\":\"random_connected_neighbor\",\"orientation\":\"v\",\"showlegend\":false,\"type\":\"scatter\",\"x\":[10],\"xaxis\":\"x4\",\"y\":[10928.28],\"yaxis\":\"y4\"},{\"hovertemplate\":\"Neighborhood Function=random_connected_neighbor<br># Tasks=100<br>Base=1.00<br>T=0 Temp=50.0<br># Nodes=%{x}<br>Cost=%{y}<extra></extra>\",\"legendgroup\":\"random_connected_neighbor\",\"line\":{\"color\":\"#1F77B4\",\"dash\":\"solid\"},\"marker\":{\"symbol\":\"circle\"},\"mode\":\"lines\",\"name\":\"random_connected_neighbor\",\"orientation\":\"v\",\"showlegend\":false,\"type\":\"scatter\",\"x\":[10],\"xaxis\":\"x5\",\"y\":[846.4504761904761],\"yaxis\":\"y5\"},{\"hovertemplate\":\"Neighborhood Function=random_connected_neighbor<br># Tasks=100<br>Base=1.00<br>T=0 Temp=100.0<br># Nodes=%{x}<br>Cost=%{y}<extra></extra>\",\"legendgroup\":\"random_connected_neighbor\",\"line\":{\"color\":\"#1F77B4\",\"dash\":\"solid\"},\"marker\":{\"symbol\":\"circle\"},\"mode\":\"lines\",\"name\":\"random_connected_neighbor\",\"orientation\":\"v\",\"showlegend\":false,\"type\":\"scatter\",\"x\":[10],\"xaxis\":\"x6\",\"y\":[11077.44],\"yaxis\":\"y6\"},{\"hovertemplate\":\"Neighborhood Function=random_connected_neighbor<br># Tasks=100<br>Base=e<br>T=0 Temp=10.0<br># Nodes=%{x}<br>Cost=%{y}<extra></extra>\",\"legendgroup\":\"random_connected_neighbor\",\"line\":{\"color\":\"#1F77B4\",\"dash\":\"solid\"},\"marker\":{\"symbol\":\"circle\"},\"mode\":\"lines\",\"name\":\"random_connected_neighbor\",\"orientation\":\"v\",\"showlegend\":false,\"type\":\"scatter\",\"x\":[10],\"xaxis\":\"x\",\"y\":[768.2],\"yaxis\":\"y\"},{\"hovertemplate\":\"Neighborhood Function=random_connected_neighbor<br># Tasks=100<br>Base=e<br>T=0 Temp=50.0<br># Nodes=%{x}<br>Cost=%{y}<extra></extra>\",\"legendgroup\":\"random_connected_neighbor\",\"line\":{\"color\":\"#1F77B4\",\"dash\":\"solid\"},\"marker\":{\"symbol\":\"circle\"},\"mode\":\"lines\",\"name\":\"random_connected_neighbor\",\"orientation\":\"v\",\"showlegend\":false,\"type\":\"scatter\",\"x\":[10],\"xaxis\":\"x2\",\"y\":[526.72],\"yaxis\":\"y2\"},{\"hovertemplate\":\"Neighborhood Function=random_connected_neighbor<br># Tasks=100<br>Base=e<br>T=0 Temp=100.0<br># Nodes=%{x}<br>Cost=%{y}<extra></extra>\",\"legendgroup\":\"random_connected_neighbor\",\"line\":{\"color\":\"#1F77B4\",\"dash\":\"solid\"},\"marker\":{\"symbol\":\"circle\"},\"mode\":\"lines\",\"name\":\"random_connected_neighbor\",\"orientation\":\"v\",\"showlegend\":false,\"type\":\"scatter\",\"x\":[10],\"xaxis\":\"x3\",\"y\":[32200.7],\"yaxis\":\"y3\"},{\"hovertemplate\":\"Neighborhood Function=random_neighbor<br># Tasks=100<br>Base=0.00<br>T=0 Temp=10.0<br># Nodes=%{x}<br>Cost=%{y}<extra></extra>\",\"legendgroup\":\"random_neighbor\",\"line\":{\"color\":\"#FF7F0E\",\"dash\":\"solid\"},\"marker\":{\"symbol\":\"circle\"},\"mode\":\"lines\",\"name\":\"random_neighbor\",\"orientation\":\"v\",\"showlegend\":true,\"type\":\"scatter\",\"x\":[10],\"xaxis\":\"x7\",\"y\":[2249.7],\"yaxis\":\"y7\"},{\"hovertemplate\":\"Neighborhood Function=random_neighbor<br># Tasks=100<br>Base=0.00<br>T=0 Temp=50.0<br># Nodes=%{x}<br>Cost=%{y}<extra></extra>\",\"legendgroup\":\"random_neighbor\",\"line\":{\"color\":\"#FF7F0E\",\"dash\":\"solid\"},\"marker\":{\"symbol\":\"circle\"},\"mode\":\"lines\",\"name\":\"random_neighbor\",\"orientation\":\"v\",\"showlegend\":false,\"type\":\"scatter\",\"x\":[10],\"xaxis\":\"x8\",\"y\":[169.46],\"yaxis\":\"y8\"},{\"hovertemplate\":\"Neighborhood Function=random_neighbor<br># Tasks=100<br>Base=0.00<br>T=0 Temp=100.0<br># Nodes=%{x}<br>Cost=%{y}<extra></extra>\",\"legendgroup\":\"random_neighbor\",\"line\":{\"color\":\"#FF7F0E\",\"dash\":\"solid\"},\"marker\":{\"symbol\":\"circle\"},\"mode\":\"lines\",\"name\":\"random_neighbor\",\"orientation\":\"v\",\"showlegend\":false,\"type\":\"scatter\",\"x\":[10],\"xaxis\":\"x9\",\"y\":[406.62],\"yaxis\":\"y9\"},{\"hovertemplate\":\"Neighborhood Function=random_neighbor<br># Tasks=100<br>Base=1.00<br>T=0 Temp=10.0<br># Nodes=%{x}<br>Cost=%{y}<extra></extra>\",\"legendgroup\":\"random_neighbor\",\"line\":{\"color\":\"#FF7F0E\",\"dash\":\"solid\"},\"marker\":{\"symbol\":\"circle\"},\"mode\":\"lines\",\"name\":\"random_neighbor\",\"orientation\":\"v\",\"showlegend\":false,\"type\":\"scatter\",\"x\":[10],\"xaxis\":\"x4\",\"y\":[8978.62],\"yaxis\":\"y4\"},{\"hovertemplate\":\"Neighborhood Function=random_neighbor<br># Tasks=100<br>Base=1.00<br>T=0 Temp=50.0<br># Nodes=%{x}<br>Cost=%{y}<extra></extra>\",\"legendgroup\":\"random_neighbor\",\"line\":{\"color\":\"#FF7F0E\",\"dash\":\"solid\"},\"marker\":{\"symbol\":\"circle\"},\"mode\":\"lines\",\"name\":\"random_neighbor\",\"orientation\":\"v\",\"showlegend\":false,\"type\":\"scatter\",\"x\":[10],\"xaxis\":\"x5\",\"y\":[10792.52],\"yaxis\":\"y5\"},{\"hovertemplate\":\"Neighborhood Function=random_neighbor<br># Tasks=100<br>Base=1.00<br>T=0 Temp=100.0<br># Nodes=%{x}<br>Cost=%{y}<extra></extra>\",\"legendgroup\":\"random_neighbor\",\"line\":{\"color\":\"#FF7F0E\",\"dash\":\"solid\"},\"marker\":{\"symbol\":\"circle\"},\"mode\":\"lines\",\"name\":\"random_neighbor\",\"orientation\":\"v\",\"showlegend\":false,\"type\":\"scatter\",\"x\":[10],\"xaxis\":\"x6\",\"y\":[11252.22],\"yaxis\":\"y6\"},{\"hovertemplate\":\"Neighborhood Function=random_neighbor<br># Tasks=100<br>Base=e<br>T=0 Temp=10.0<br># Nodes=%{x}<br>Cost=%{y}<extra></extra>\",\"legendgroup\":\"random_neighbor\",\"line\":{\"color\":\"#FF7F0E\",\"dash\":\"solid\"},\"marker\":{\"symbol\":\"circle\"},\"mode\":\"lines\",\"name\":\"random_neighbor\",\"orientation\":\"v\",\"showlegend\":false,\"type\":\"scatter\",\"x\":[10],\"xaxis\":\"x\",\"y\":[5199.8],\"yaxis\":\"y\"},{\"hovertemplate\":\"Neighborhood Function=random_neighbor<br># Tasks=100<br>Base=e<br>T=0 Temp=50.0<br># Nodes=%{x}<br>Cost=%{y}<extra></extra>\",\"legendgroup\":\"random_neighbor\",\"line\":{\"color\":\"#FF7F0E\",\"dash\":\"solid\"},\"marker\":{\"symbol\":\"circle\"},\"mode\":\"lines\",\"name\":\"random_neighbor\",\"orientation\":\"v\",\"showlegend\":false,\"type\":\"scatter\",\"x\":[10],\"xaxis\":\"x2\",\"y\":[452.2],\"yaxis\":\"y2\"},{\"hovertemplate\":\"Neighborhood Function=random_neighbor<br># Tasks=100<br>Base=e<br>T=0 Temp=100.0<br># Nodes=%{x}<br>Cost=%{y}<extra></extra>\",\"legendgroup\":\"random_neighbor\",\"line\":{\"color\":\"#FF7F0E\",\"dash\":\"solid\"},\"marker\":{\"symbol\":\"circle\"},\"mode\":\"lines\",\"name\":\"random_neighbor\",\"orientation\":\"v\",\"showlegend\":false,\"type\":\"scatter\",\"x\":[10],\"xaxis\":\"x3\",\"y\":[184.0],\"yaxis\":\"y3\"}],\"name\":\"100\"}]);\n",
       "                        }).then(function(){\n",
       "                            \n",
       "var gd = document.getElementById('1771ad07-36de-430b-98d8-459e9f4c68d9');\n",
       "var x = new MutationObserver(function (mutations, observer) {{\n",
       "        var display = window.getComputedStyle(gd).display;\n",
       "        if (!display || display === 'none') {{\n",
       "            console.log([gd, 'removed!']);\n",
       "            Plotly.purge(gd);\n",
       "            observer.disconnect();\n",
       "        }}\n",
       "}});\n",
       "\n",
       "// Listen for the removal of the full notebook cells\n",
       "var notebookContainer = gd.closest('#notebook-container');\n",
       "if (notebookContainer) {{\n",
       "    x.observe(notebookContainer, {childList: true});\n",
       "}}\n",
       "\n",
       "// Listen for the clearing of the current output cell\n",
       "var outputEl = gd.closest('.output');\n",
       "if (outputEl) {{\n",
       "    x.observe(outputEl, {childList: true});\n",
       "}}\n",
       "\n",
       "                        })                };                });            </script>        </div>"
      ]
     },
     "metadata": {},
     "output_type": "display_data"
    }
   ],
   "source": [
    "import numpy as np\n",
    "\n",
    "df[\"sa_base\"] = df[\"sa_base\"].apply(lambda x: \"e\" if x == np.e else f\"{x:.2f}\")\n",
    "px.line(\n",
    "    df[df[\"optimizer\"] == \"simulated_annealing\"],\n",
    "    x=\"network_order\",\n",
    "    y=\"best_cost\",\n",
    "    color=\"sa_neighborhood\",\n",
    "    facet_col=\"sa_initial_temperature\",\n",
    "    facet_row=\"sa_base\",\n",
    "    animation_frame=\"task_graph_order\",\n",
    "\n",
    "    template=\"simple_white\",\n",
    "    labels={\n",
    "        \"sa_base\": \"Base\",\n",
    "        \"best_cost\": \"Cost\",\n",
    "        \"sa_initial_temperature\": \"T=0 Temp\",\n",
    "        \"network_order\": \"# Nodes\",\n",
    "        \"task_graph_order\": \"# Tasks\",\n",
    "        \"sa_neighborhood\": \"Neighborhood Function\"\n",
    "    }\n",
    ")"
   ]
  }
 ],
 "metadata": {
  "interpreter": {
   "hash": "8b8334dab9339717f727a1deaf837b322d7a41c20d15cc86be99a8e69ceec8ce"
  },
  "kernelspec": {
   "display_name": "Python 3.8.12 64-bit ('3.8.12': pyenv)",
   "name": "python3"
  },
  "language_info": {
   "codemirror_mode": {
    "name": "ipython",
    "version": 3
   },
   "file_extension": ".py",
   "mimetype": "text/x-python",
   "name": "python",
   "nbconvert_exporter": "python",
   "pygments_lexer": "ipython3",
   "version": "3.8.12"
  },
  "orig_nbformat": 4
 },
 "nbformat": 4,
 "nbformat_minor": 2
}
