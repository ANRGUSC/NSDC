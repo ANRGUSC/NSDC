{
 "cells": [
  {
   "cell_type": "code",
   "execution_count": 8,
   "metadata": {},
   "outputs": [],
   "source": [
    "import pathlib\n",
    "import networkx as nx\n",
    "from typing import Callable, Dict, Hashable, Set, Tuple, Union\n",
    "\n",
    "from helpers import get_network, WorkflowTaskGraph\n",
    "from heft_synthesis import heft\n",
    "from wfcommons.wfchef.recipes import MontageRecipe\n",
    "\n",
    "workflow = MontageRecipe(num_tasks=100).build_workflow()\n",
    "task_graph = WorkflowTaskGraph(workflow)\n",
    "network = get_network()"
   ]
  },
  {
   "cell_type": "code",
   "execution_count": 14,
   "metadata": {},
   "outputs": [
    {
     "name": "stdout",
     "output_type": "stream",
     "text": [
      "{0, 1, 2, 3, 4}\n"
     ]
    },
    {
     "ename": "TypeError",
     "evalue": "'int' object is not subscriptable",
     "output_type": "error",
     "traceback": [
      "\u001b[0;31m---------------------------------------------------------------------------\u001b[0m",
      "\u001b[0;31mTypeError\u001b[0m                                 Traceback (most recent call last)",
      "\u001b[1;32m/workspace/NSDC/test/heft_synthesis/main.ipynb Cell 2\u001b[0m in \u001b[0;36m<cell line: 40>\u001b[0;34m()\u001b[0m\n\u001b[1;32m     <a href='vscode-notebook-cell://ssh-remote%2Banrgusc-nsdc-m4c6xz00q3e/workspace/NSDC/test/heft_synthesis/main.ipynb#W1sdnNjb2RlLXJlbW90ZQ%3D%3D?line=31'>32</a>\u001b[0m schedule \u001b[39m=\u001b[39m heft(\n\u001b[1;32m     <a href='vscode-notebook-cell://ssh-remote%2Banrgusc-nsdc-m4c6xz00q3e/workspace/NSDC/test/heft_synthesis/main.ipynb#W1sdnNjb2RlLXJlbW90ZQ%3D%3D?line=32'>33</a>\u001b[0m     data\u001b[39m=\u001b[39mdata\u001b[39m.\u001b[39mvalues, \n\u001b[1;32m     <a href='vscode-notebook-cell://ssh-remote%2Banrgusc-nsdc-m4c6xz00q3e/workspace/NSDC/test/heft_synthesis/main.ipynb#W1sdnNjb2RlLXJlbW90ZQ%3D%3D?line=33'>34</a>\u001b[0m     comp\u001b[39m=\u001b[39mcomp\u001b[39m.\u001b[39mvalues\u001b[39m.\u001b[39mT, \n\u001b[1;32m     <a href='vscode-notebook-cell://ssh-remote%2Banrgusc-nsdc-m4c6xz00q3e/workspace/NSDC/test/heft_synthesis/main.ipynb#W1sdnNjb2RlLXJlbW90ZQ%3D%3D?line=34'>35</a>\u001b[0m     comm\u001b[39m=\u001b[39mcomm\u001b[39m.\u001b[39mvalues, \n\u001b[1;32m     <a href='vscode-notebook-cell://ssh-remote%2Banrgusc-nsdc-m4c6xz00q3e/workspace/NSDC/test/heft_synthesis/main.ipynb#W1sdnNjb2RlLXJlbW90ZQ%3D%3D?line=35'>36</a>\u001b[0m     compare\u001b[39m=\u001b[39mmodified_heft_comparison\n\u001b[1;32m     <a href='vscode-notebook-cell://ssh-remote%2Banrgusc-nsdc-m4c6xz00q3e/workspace/NSDC/test/heft_synthesis/main.ipynb#W1sdnNjb2RlLXJlbW90ZQ%3D%3D?line=36'>37</a>\u001b[0m )\n\u001b[1;32m     <a href='vscode-notebook-cell://ssh-remote%2Banrgusc-nsdc-m4c6xz00q3e/workspace/NSDC/test/heft_synthesis/main.ipynb#W1sdnNjb2RlLXJlbW90ZQ%3D%3D?line=38'>39</a>\u001b[0m \u001b[39mprint\u001b[39m({node_order[proc] \u001b[39mfor\u001b[39;00m proc, tasks \u001b[39min\u001b[39;00m schedule\u001b[39m.\u001b[39mitems() \u001b[39mif\u001b[39;00m \u001b[39mlen\u001b[39m(tasks) \u001b[39m>\u001b[39m\u001b[39m=\u001b[39m \u001b[39m1\u001b[39m})\n\u001b[0;32m---> <a href='vscode-notebook-cell://ssh-remote%2Banrgusc-nsdc-m4c6xz00q3e/workspace/NSDC/test/heft_synthesis/main.ipynb#W1sdnNjb2RlLXJlbW90ZQ%3D%3D?line=39'>40</a>\u001b[0m modified_heft_subnetwork \u001b[39m=\u001b[39m network\u001b[39m.\u001b[39;49msubnetwork(\n\u001b[1;32m     <a href='vscode-notebook-cell://ssh-remote%2Banrgusc-nsdc-m4c6xz00q3e/workspace/NSDC/test/heft_synthesis/main.ipynb#W1sdnNjb2RlLXJlbW90ZQ%3D%3D?line=40'>41</a>\u001b[0m     {proc \u001b[39mfor\u001b[39;49;00m proc, tasks \u001b[39min\u001b[39;49;00m schedule\u001b[39m.\u001b[39;49mitems() \u001b[39mif\u001b[39;49;00m \u001b[39mlen\u001b[39;49m(tasks) \u001b[39m>\u001b[39;49m\u001b[39m=\u001b[39;49m \u001b[39m1\u001b[39;49m}\n\u001b[1;32m     <a href='vscode-notebook-cell://ssh-remote%2Banrgusc-nsdc-m4c6xz00q3e/workspace/NSDC/test/heft_synthesis/main.ipynb#W1sdnNjb2RlLXJlbW90ZQ%3D%3D?line=41'>42</a>\u001b[0m )\n\u001b[1;32m     <a href='vscode-notebook-cell://ssh-remote%2Banrgusc-nsdc-m4c6xz00q3e/workspace/NSDC/test/heft_synthesis/main.ipynb#W1sdnNjb2RlLXJlbW90ZQ%3D%3D?line=43'>44</a>\u001b[0m \u001b[39mprint\u001b[39m(\u001b[39mf\u001b[39m\u001b[39m'\u001b[39m\u001b[39mModified HEFT subnetwork cost: \u001b[39m\u001b[39m{\u001b[39;00mmodified_heft_subnetwork\u001b[39m.\u001b[39mcost()\u001b[39m}\u001b[39;00m\u001b[39m'\u001b[39m)\n",
      "File \u001b[0;32m/workspace/NSDC/nsdc_framework/nsdc/network/simple_network.py:316\u001b[0m, in \u001b[0;36mSimpleNetwork.subnetwork\u001b[0;34m(self, subedges)\u001b[0m\n\u001b[1;32m    314\u001b[0m \u001b[39mdef\u001b[39;00m \u001b[39msubnetwork\u001b[39m(\u001b[39mself\u001b[39m, subedges: Set) \u001b[39m-\u001b[39m\u001b[39m>\u001b[39m \u001b[39m\"\u001b[39m\u001b[39mSimpleNetwork\u001b[39m\u001b[39m\"\u001b[39m:\n\u001b[1;32m    315\u001b[0m     network \u001b[39m=\u001b[39m SimpleNetwork(\u001b[39mself\u001b[39m\u001b[39m.\u001b[39mnode_speed, \u001b[39mself\u001b[39m\u001b[39m.\u001b[39mradio_speed, \u001b[39mself\u001b[39m\u001b[39m.\u001b[39msat_speed, \u001b[39mself\u001b[39m\u001b[39m.\u001b[39mgray_speed)\n\u001b[0;32m--> 316\u001b[0m     network\u001b[39m.\u001b[39m_graph \u001b[39m=\u001b[39m \u001b[39mself\u001b[39;49m\u001b[39m.\u001b[39;49m_graph\u001b[39m.\u001b[39;49medge_subgraph(subedges)\n\u001b[1;32m    317\u001b[0m     \u001b[39mreturn\u001b[39;00m network\n",
      "File \u001b[0;32m/workspace/.pip-modules/lib/python3.8/site-packages/networkx/classes/graph.py:1777\u001b[0m, in \u001b[0;36mGraph.edge_subgraph\u001b[0;34m(self, edges)\u001b[0m\n\u001b[1;32m   1739\u001b[0m \u001b[39mdef\u001b[39;00m \u001b[39medge_subgraph\u001b[39m(\u001b[39mself\u001b[39m, edges):\n\u001b[1;32m   1740\u001b[0m     \u001b[39m\"\"\"Returns the subgraph induced by the specified edges.\u001b[39;00m\n\u001b[1;32m   1741\u001b[0m \n\u001b[1;32m   1742\u001b[0m \u001b[39m    The induced subgraph contains each edge in `edges` and each\u001b[39;00m\n\u001b[0;32m   (...)\u001b[0m\n\u001b[1;32m   1775\u001b[0m \n\u001b[1;32m   1776\u001b[0m \u001b[39m    \"\"\"\u001b[39;00m\n\u001b[0;32m-> 1777\u001b[0m     \u001b[39mreturn\u001b[39;00m nx\u001b[39m.\u001b[39;49medge_subgraph(\u001b[39mself\u001b[39;49m, edges)\n",
      "File \u001b[0;32m/workspace/.pip-modules/lib/python3.8/site-packages/networkx/classes/function.py:441\u001b[0m, in \u001b[0;36medge_subgraph\u001b[0;34m(G, edges)\u001b[0m\n\u001b[1;32m    439\u001b[0m nodes \u001b[39m=\u001b[39m \u001b[39mset\u001b[39m()\n\u001b[1;32m    440\u001b[0m \u001b[39mfor\u001b[39;00m e \u001b[39min\u001b[39;00m edges:\n\u001b[0;32m--> 441\u001b[0m     nodes\u001b[39m.\u001b[39mupdate(e[:\u001b[39m2\u001b[39;49m])\n\u001b[1;32m    442\u001b[0m induced_nodes \u001b[39m=\u001b[39m nxf\u001b[39m.\u001b[39mshow_nodes(nodes)\n\u001b[1;32m    443\u001b[0m \u001b[39mif\u001b[39;00m G\u001b[39m.\u001b[39mis_multigraph():\n",
      "\u001b[0;31mTypeError\u001b[0m: 'int' object is not subscriptable"
     ]
    }
   ],
   "source": [
    "# Custom comparison function for modified heft\n",
    "task_order = list(nx.topological_sort(task_graph.to_networkx()))\n",
    "node_order = network.nodes\n",
    "\n",
    "comp = task_graph.computation_matrix(network).loc[task_order,node_order]\n",
    "data = task_graph.data_matrix().loc[task_order,task_order]\n",
    "comm = network.communication_matrix().loc[node_order,node_order]\n",
    "\n",
    "def modified_heft_comparison(selected_nodes: Set[int],\n",
    "                             node: Tuple[int, float], \n",
    "                             other: Tuple[int, float]) -> Union[float, int]:\n",
    "        node_idx, node_eft = node\n",
    "        other_idx, other_eft = other\n",
    "        eft_diff = node_eft - other_eft\n",
    "\n",
    "        selected_names = [node_order[idx] for idx in selected_nodes]\n",
    "        node_cost = 0.0\n",
    "        for n in [node_order[node_idx], *selected_names]:\n",
    "            if n == \"__satellite__\":\n",
    "                continue\n",
    "            node_cost += network.node_cost[network._graph.nodes[n][\"speed\"]]\n",
    "\n",
    "        other_cost = 0.0\n",
    "        for n in [node_order[other_idx], *selected_names]:\n",
    "            if n == \"__satellite__\":\n",
    "                continue\n",
    "            other_cost += network.node_cost[network._graph.nodes[n][\"speed\"]]\n",
    "\n",
    "        cost_diff = node_cost - other_cost\n",
    "        return eft_diff + cost_diff\n",
    "\n",
    "schedule = heft(\n",
    "    data=data.values, \n",
    "    comp=comp.values.T, \n",
    "    comm=comm.values, \n",
    "    compare=modified_heft_comparison\n",
    ")\n",
    "\n",
    "modified_heft_subnetwork = network.subnetwork(\n",
    "    [node_order[proc] for proc, tasks in schedule.items() if len(tasks) >= 1]\n",
    ")\n",
    "\n",
    "print(f'Modified HEFT subnetwork cost: {modified_heft_subnetwork.cost()}')\n"
   ]
  },
  {
   "cell_type": "code",
   "execution_count": null,
   "metadata": {},
   "outputs": [],
   "source": []
  }
 ],
 "metadata": {
  "kernelspec": {
   "display_name": "Python 3.8.12 64-bit ('3.8.12')",
   "language": "python",
   "name": "python3"
  },
  "language_info": {
   "codemirror_mode": {
    "name": "ipython",
    "version": 3
   },
   "file_extension": ".py",
   "mimetype": "text/x-python",
   "name": "python",
   "nbconvert_exporter": "python",
   "pygments_lexer": "ipython3",
   "version": "3.8.12"
  },
  "orig_nbformat": 4,
  "vscode": {
   "interpreter": {
    "hash": "8b8334dab9339717f727a1deaf837b322d7a41c20d15cc86be99a8e69ceec8ce"
   }
  }
 },
 "nbformat": 4,
 "nbformat_minor": 2
}
